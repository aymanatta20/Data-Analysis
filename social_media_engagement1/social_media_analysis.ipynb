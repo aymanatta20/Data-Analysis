{
 "cells": [
  {
   "cell_type": "code",
   "execution_count": 171,
   "id": "6b686029",
   "metadata": {},
   "outputs": [],
   "source": [
    "import pandas as pd \n",
    "import numpy as np \n",
    "import matplotlib.pyplot as plt \n",
    "import seaborn as sns  \n",
    "\n",
    "from sklearn.preprocessing import LabelEncoder , MinMaxScaler \n",
    "from sklearn.model_selection import train_test_split \n",
    "from sklearn.metrics import confusion_matrix , classification_report \n",
    "\n",
    "from sklearn.linear_model import LinearRegression , LogisticRegression \n",
    "from sklearn.svm import SVC \n",
    "from sklearn. ensemble import RandomForestClassifier \n",
    "from xgboost import XGBClassifier \n",
    "from sklearn.tree import DecisionTreeClassifier "
   ]
  },
  {
   "cell_type": "markdown",
   "id": "b436d029",
   "metadata": {},
   "source": [
    "about Dataset "
   ]
  },
  {
   "cell_type": "markdown",
   "id": "65066518",
   "metadata": {},
   "source": [
    "About Dataset\n",
    "This dataset captures the pulse of viral social media trends across TikTok, Instagram, Twitter, and YouTube. It provides insights into the most popular hashtags, content types, and user engagement levels, offering a comprehensive view of how trends unfold across platforms. With regional data and influencer-driven content, this dataset is perfect for:\n",
    "\n",
    "Trend analysis 🔍\n",
    "Sentiment modeling 💭\n",
    "Understanding influencer marketing 📈\n",
    "Dive in to explore what makes content go viral, the behaviors that drive engagement, and how trends evolve on a global scale!"
   ]
  },
  {
   "cell_type": "code",
   "execution_count": 172,
   "id": "c127d5ca",
   "metadata": {},
   "outputs": [
    {
     "data": {
      "text/html": [
       "<div>\n",
       "<style scoped>\n",
       "    .dataframe tbody tr th:only-of-type {\n",
       "        vertical-align: middle;\n",
       "    }\n",
       "\n",
       "    .dataframe tbody tr th {\n",
       "        vertical-align: top;\n",
       "    }\n",
       "\n",
       "    .dataframe thead th {\n",
       "        text-align: right;\n",
       "    }\n",
       "</style>\n",
       "<table border=\"1\" class=\"dataframe\">\n",
       "  <thead>\n",
       "    <tr style=\"text-align: right;\">\n",
       "      <th></th>\n",
       "      <th>post_id</th>\n",
       "      <th>platform</th>\n",
       "      <th>post_type</th>\n",
       "      <th>post_time</th>\n",
       "      <th>likes</th>\n",
       "      <th>comments</th>\n",
       "      <th>shares</th>\n",
       "      <th>post_day</th>\n",
       "      <th>sentiment_score</th>\n",
       "    </tr>\n",
       "  </thead>\n",
       "  <tbody>\n",
       "    <tr>\n",
       "      <th>0</th>\n",
       "      <td>1</td>\n",
       "      <td>Facebook</td>\n",
       "      <td>image</td>\n",
       "      <td>8/17/2023 14:45</td>\n",
       "      <td>2121</td>\n",
       "      <td>474</td>\n",
       "      <td>628</td>\n",
       "      <td>Thursday</td>\n",
       "      <td>positive</td>\n",
       "    </tr>\n",
       "    <tr>\n",
       "      <th>1</th>\n",
       "      <td>2</td>\n",
       "      <td>Facebook</td>\n",
       "      <td>carousel</td>\n",
       "      <td>5/14/2023 0:45</td>\n",
       "      <td>3660</td>\n",
       "      <td>432</td>\n",
       "      <td>694</td>\n",
       "      <td>Sunday</td>\n",
       "      <td>neutral</td>\n",
       "    </tr>\n",
       "    <tr>\n",
       "      <th>2</th>\n",
       "      <td>3</td>\n",
       "      <td>Instagram</td>\n",
       "      <td>poll</td>\n",
       "      <td>2/21/2023 16:15</td>\n",
       "      <td>4955</td>\n",
       "      <td>408</td>\n",
       "      <td>688</td>\n",
       "      <td>Tuesday</td>\n",
       "      <td>negative</td>\n",
       "    </tr>\n",
       "    <tr>\n",
       "      <th>3</th>\n",
       "      <td>4</td>\n",
       "      <td>Twitter</td>\n",
       "      <td>image</td>\n",
       "      <td>11/16/2023 0:45</td>\n",
       "      <td>1183</td>\n",
       "      <td>90</td>\n",
       "      <td>187</td>\n",
       "      <td>Thursday</td>\n",
       "      <td>negative</td>\n",
       "    </tr>\n",
       "    <tr>\n",
       "      <th>4</th>\n",
       "      <td>5</td>\n",
       "      <td>Twitter</td>\n",
       "      <td>video</td>\n",
       "      <td>5/23/2023 0:30</td>\n",
       "      <td>3499</td>\n",
       "      <td>247</td>\n",
       "      <td>286</td>\n",
       "      <td>Tuesday</td>\n",
       "      <td>positive</td>\n",
       "    </tr>\n",
       "    <tr>\n",
       "      <th>...</th>\n",
       "      <td>...</td>\n",
       "      <td>...</td>\n",
       "      <td>...</td>\n",
       "      <td>...</td>\n",
       "      <td>...</td>\n",
       "      <td>...</td>\n",
       "      <td>...</td>\n",
       "      <td>...</td>\n",
       "      <td>...</td>\n",
       "    </tr>\n",
       "    <tr>\n",
       "      <th>95</th>\n",
       "      <td>96</td>\n",
       "      <td>Instagram</td>\n",
       "      <td>carousel</td>\n",
       "      <td>7/12/2023 17:45</td>\n",
       "      <td>36</td>\n",
       "      <td>294</td>\n",
       "      <td>911</td>\n",
       "      <td>Wednesday</td>\n",
       "      <td>positive</td>\n",
       "    </tr>\n",
       "    <tr>\n",
       "      <th>96</th>\n",
       "      <td>97</td>\n",
       "      <td>Twitter</td>\n",
       "      <td>video</td>\n",
       "      <td>10/27/2023 23:45</td>\n",
       "      <td>314</td>\n",
       "      <td>108</td>\n",
       "      <td>458</td>\n",
       "      <td>Friday</td>\n",
       "      <td>neutral</td>\n",
       "    </tr>\n",
       "    <tr>\n",
       "      <th>97</th>\n",
       "      <td>98</td>\n",
       "      <td>Twitter</td>\n",
       "      <td>text</td>\n",
       "      <td>8/5/2023 8:45</td>\n",
       "      <td>229</td>\n",
       "      <td>179</td>\n",
       "      <td>38</td>\n",
       "      <td>Saturday</td>\n",
       "      <td>positive</td>\n",
       "    </tr>\n",
       "    <tr>\n",
       "      <th>98</th>\n",
       "      <td>99</td>\n",
       "      <td>Instagram</td>\n",
       "      <td>poll</td>\n",
       "      <td>12/29/2023 12:15</td>\n",
       "      <td>5000</td>\n",
       "      <td>500</td>\n",
       "      <td>204</td>\n",
       "      <td>Friday</td>\n",
       "      <td>positive</td>\n",
       "    </tr>\n",
       "    <tr>\n",
       "      <th>99</th>\n",
       "      <td>100</td>\n",
       "      <td>Instagram</td>\n",
       "      <td>image</td>\n",
       "      <td>6/6/2023 21:00</td>\n",
       "      <td>4483</td>\n",
       "      <td>357</td>\n",
       "      <td>25</td>\n",
       "      <td>Tuesday</td>\n",
       "      <td>neutral</td>\n",
       "    </tr>\n",
       "  </tbody>\n",
       "</table>\n",
       "<p>100 rows × 9 columns</p>\n",
       "</div>"
      ],
      "text/plain": [
       "    post_id   platform post_type         post_time  likes  comments  shares  \\\n",
       "0         1   Facebook     image   8/17/2023 14:45   2121       474     628   \n",
       "1         2   Facebook  carousel    5/14/2023 0:45   3660       432     694   \n",
       "2         3  Instagram      poll   2/21/2023 16:15   4955       408     688   \n",
       "3         4    Twitter     image   11/16/2023 0:45   1183        90     187   \n",
       "4         5    Twitter     video    5/23/2023 0:30   3499       247     286   \n",
       "..      ...        ...       ...               ...    ...       ...     ...   \n",
       "95       96  Instagram  carousel   7/12/2023 17:45     36       294     911   \n",
       "96       97    Twitter     video  10/27/2023 23:45    314       108     458   \n",
       "97       98    Twitter      text     8/5/2023 8:45    229       179      38   \n",
       "98       99  Instagram      poll  12/29/2023 12:15   5000       500     204   \n",
       "99      100  Instagram     image    6/6/2023 21:00   4483       357      25   \n",
       "\n",
       "     post_day sentiment_score  \n",
       "0    Thursday        positive  \n",
       "1      Sunday         neutral  \n",
       "2     Tuesday        negative  \n",
       "3    Thursday        negative  \n",
       "4     Tuesday        positive  \n",
       "..        ...             ...  \n",
       "95  Wednesday        positive  \n",
       "96     Friday         neutral  \n",
       "97   Saturday        positive  \n",
       "98     Friday        positive  \n",
       "99    Tuesday         neutral  \n",
       "\n",
       "[100 rows x 9 columns]"
      ]
     },
     "execution_count": 172,
     "metadata": {},
     "output_type": "execute_result"
    }
   ],
   "source": [
    "data =pd.read_csv(\"social_media_engagement1.csv\") \n",
    "data "
   ]
  },
  {
   "cell_type": "code",
   "execution_count": 173,
   "id": "f3af8ef4",
   "metadata": {},
   "outputs": [
    {
     "data": {
      "text/plain": [
       "0"
      ]
     },
     "execution_count": 173,
     "metadata": {},
     "output_type": "execute_result"
    }
   ],
   "source": [
    "data.duplicated().sum()"
   ]
  },
  {
   "cell_type": "code",
   "execution_count": 174,
   "id": "83d8d2da",
   "metadata": {},
   "outputs": [
    {
     "name": "stdout",
     "output_type": "stream",
     "text": [
      "<class 'pandas.core.frame.DataFrame'>\n",
      "RangeIndex: 100 entries, 0 to 99\n",
      "Data columns (total 9 columns):\n",
      " #   Column           Non-Null Count  Dtype \n",
      "---  ------           --------------  ----- \n",
      " 0   post_id          100 non-null    int64 \n",
      " 1   platform         100 non-null    object\n",
      " 2   post_type        100 non-null    object\n",
      " 3   post_time        100 non-null    object\n",
      " 4   likes            100 non-null    int64 \n",
      " 5   comments         100 non-null    int64 \n",
      " 6   shares           100 non-null    int64 \n",
      " 7   post_day         100 non-null    object\n",
      " 8   sentiment_score  100 non-null    object\n",
      "dtypes: int64(4), object(5)\n",
      "memory usage: 7.2+ KB\n"
     ]
    }
   ],
   "source": [
    "data.info()"
   ]
  },
  {
   "cell_type": "code",
   "execution_count": 175,
   "id": "65e99640",
   "metadata": {},
   "outputs": [
    {
     "data": {
      "text/plain": [
       "post_id            100\n",
       "platform             3\n",
       "post_type            5\n",
       "post_time           99\n",
       "likes               93\n",
       "comments            85\n",
       "shares              96\n",
       "post_day             7\n",
       "sentiment_score      3\n",
       "dtype: int64"
      ]
     },
     "execution_count": 175,
     "metadata": {},
     "output_type": "execute_result"
    }
   ],
   "source": [
    "data.nunique()"
   ]
  },
  {
   "cell_type": "code",
   "execution_count": 176,
   "id": "b27d9fa3",
   "metadata": {},
   "outputs": [
    {
     "data": {
      "text/plain": [
       "Index(['post_id', 'platform', 'post_type', 'post_time', 'likes', 'comments',\n",
       "       'shares', 'post_day', 'sentiment_score'],\n",
       "      dtype='object')"
      ]
     },
     "execution_count": 176,
     "metadata": {},
     "output_type": "execute_result"
    }
   ],
   "source": [
    "data.columns"
   ]
  },
  {
   "cell_type": "code",
   "execution_count": 177,
   "id": "4ed5444c",
   "metadata": {},
   "outputs": [
    {
     "data": {
      "text/plain": [
       "9"
      ]
     },
     "execution_count": 177,
     "metadata": {},
     "output_type": "execute_result"
    }
   ],
   "source": [
    "data.columns.nunique()"
   ]
  },
  {
   "cell_type": "code",
   "execution_count": 178,
   "id": "dbd38f80",
   "metadata": {},
   "outputs": [
    {
     "data": {
      "text/html": [
       "<div>\n",
       "<style scoped>\n",
       "    .dataframe tbody tr th:only-of-type {\n",
       "        vertical-align: middle;\n",
       "    }\n",
       "\n",
       "    .dataframe tbody tr th {\n",
       "        vertical-align: top;\n",
       "    }\n",
       "\n",
       "    .dataframe thead th {\n",
       "        text-align: right;\n",
       "    }\n",
       "</style>\n",
       "<table border=\"1\" class=\"dataframe\">\n",
       "  <thead>\n",
       "    <tr style=\"text-align: right;\">\n",
       "      <th></th>\n",
       "      <th>post_id</th>\n",
       "      <th>platform</th>\n",
       "      <th>post_type</th>\n",
       "      <th>post_time</th>\n",
       "      <th>likes</th>\n",
       "      <th>comments</th>\n",
       "      <th>shares</th>\n",
       "      <th>post_day</th>\n",
       "      <th>sentiment_score</th>\n",
       "    </tr>\n",
       "  </thead>\n",
       "  <tbody>\n",
       "    <tr>\n",
       "      <th>0</th>\n",
       "      <td>1</td>\n",
       "      <td>Facebook</td>\n",
       "      <td>image</td>\n",
       "      <td>8/17/2023 14:45</td>\n",
       "      <td>2121</td>\n",
       "      <td>474</td>\n",
       "      <td>628</td>\n",
       "      <td>Thursday</td>\n",
       "      <td>positive</td>\n",
       "    </tr>\n",
       "    <tr>\n",
       "      <th>1</th>\n",
       "      <td>2</td>\n",
       "      <td>Facebook</td>\n",
       "      <td>carousel</td>\n",
       "      <td>5/14/2023 0:45</td>\n",
       "      <td>3660</td>\n",
       "      <td>432</td>\n",
       "      <td>694</td>\n",
       "      <td>Sunday</td>\n",
       "      <td>neutral</td>\n",
       "    </tr>\n",
       "    <tr>\n",
       "      <th>2</th>\n",
       "      <td>3</td>\n",
       "      <td>Instagram</td>\n",
       "      <td>poll</td>\n",
       "      <td>2/21/2023 16:15</td>\n",
       "      <td>4955</td>\n",
       "      <td>408</td>\n",
       "      <td>688</td>\n",
       "      <td>Tuesday</td>\n",
       "      <td>negative</td>\n",
       "    </tr>\n",
       "    <tr>\n",
       "      <th>3</th>\n",
       "      <td>4</td>\n",
       "      <td>Twitter</td>\n",
       "      <td>image</td>\n",
       "      <td>11/16/2023 0:45</td>\n",
       "      <td>1183</td>\n",
       "      <td>90</td>\n",
       "      <td>187</td>\n",
       "      <td>Thursday</td>\n",
       "      <td>negative</td>\n",
       "    </tr>\n",
       "    <tr>\n",
       "      <th>4</th>\n",
       "      <td>5</td>\n",
       "      <td>Twitter</td>\n",
       "      <td>video</td>\n",
       "      <td>5/23/2023 0:30</td>\n",
       "      <td>3499</td>\n",
       "      <td>247</td>\n",
       "      <td>286</td>\n",
       "      <td>Tuesday</td>\n",
       "      <td>positive</td>\n",
       "    </tr>\n",
       "  </tbody>\n",
       "</table>\n",
       "</div>"
      ],
      "text/plain": [
       "   post_id   platform post_type        post_time  likes  comments  shares  \\\n",
       "0        1   Facebook     image  8/17/2023 14:45   2121       474     628   \n",
       "1        2   Facebook  carousel   5/14/2023 0:45   3660       432     694   \n",
       "2        3  Instagram      poll  2/21/2023 16:15   4955       408     688   \n",
       "3        4    Twitter     image  11/16/2023 0:45   1183        90     187   \n",
       "4        5    Twitter     video   5/23/2023 0:30   3499       247     286   \n",
       "\n",
       "   post_day sentiment_score  \n",
       "0  Thursday        positive  \n",
       "1    Sunday         neutral  \n",
       "2   Tuesday        negative  \n",
       "3  Thursday        negative  \n",
       "4   Tuesday        positive  "
      ]
     },
     "execution_count": 178,
     "metadata": {},
     "output_type": "execute_result"
    }
   ],
   "source": [
    "data.head()"
   ]
  },
  {
   "cell_type": "code",
   "execution_count": 179,
   "id": "a18667df",
   "metadata": {},
   "outputs": [
    {
     "data": {
      "text/html": [
       "<div>\n",
       "<style scoped>\n",
       "    .dataframe tbody tr th:only-of-type {\n",
       "        vertical-align: middle;\n",
       "    }\n",
       "\n",
       "    .dataframe tbody tr th {\n",
       "        vertical-align: top;\n",
       "    }\n",
       "\n",
       "    .dataframe thead th {\n",
       "        text-align: right;\n",
       "    }\n",
       "</style>\n",
       "<table border=\"1\" class=\"dataframe\">\n",
       "  <thead>\n",
       "    <tr style=\"text-align: right;\">\n",
       "      <th></th>\n",
       "      <th>post_id</th>\n",
       "      <th>platform</th>\n",
       "      <th>post_type</th>\n",
       "      <th>post_time</th>\n",
       "      <th>likes</th>\n",
       "      <th>comments</th>\n",
       "      <th>shares</th>\n",
       "      <th>post_day</th>\n",
       "      <th>sentiment_score</th>\n",
       "    </tr>\n",
       "  </thead>\n",
       "  <tbody>\n",
       "    <tr>\n",
       "      <th>41</th>\n",
       "      <td>42</td>\n",
       "      <td>Instagram</td>\n",
       "      <td>video</td>\n",
       "      <td>11/23/2023 2:00</td>\n",
       "      <td>4929</td>\n",
       "      <td>252</td>\n",
       "      <td>730</td>\n",
       "      <td>Thursday</td>\n",
       "      <td>negative</td>\n",
       "    </tr>\n",
       "    <tr>\n",
       "      <th>28</th>\n",
       "      <td>29</td>\n",
       "      <td>Facebook</td>\n",
       "      <td>image</td>\n",
       "      <td>1/7/2023 10:30</td>\n",
       "      <td>548</td>\n",
       "      <td>153</td>\n",
       "      <td>731</td>\n",
       "      <td>Saturday</td>\n",
       "      <td>negative</td>\n",
       "    </tr>\n",
       "    <tr>\n",
       "      <th>8</th>\n",
       "      <td>9</td>\n",
       "      <td>Facebook</td>\n",
       "      <td>video</td>\n",
       "      <td>5/2/2023 6:15</td>\n",
       "      <td>317</td>\n",
       "      <td>249</td>\n",
       "      <td>221</td>\n",
       "      <td>Tuesday</td>\n",
       "      <td>neutral</td>\n",
       "    </tr>\n",
       "    <tr>\n",
       "      <th>15</th>\n",
       "      <td>16</td>\n",
       "      <td>Twitter</td>\n",
       "      <td>image</td>\n",
       "      <td>2/10/2023 13:00</td>\n",
       "      <td>2348</td>\n",
       "      <td>154</td>\n",
       "      <td>18</td>\n",
       "      <td>Friday</td>\n",
       "      <td>neutral</td>\n",
       "    </tr>\n",
       "    <tr>\n",
       "      <th>16</th>\n",
       "      <td>17</td>\n",
       "      <td>Instagram</td>\n",
       "      <td>poll</td>\n",
       "      <td>7/5/2023 5:15</td>\n",
       "      <td>2872</td>\n",
       "      <td>10</td>\n",
       "      <td>736</td>\n",
       "      <td>Wednesday</td>\n",
       "      <td>positive</td>\n",
       "    </tr>\n",
       "    <tr>\n",
       "      <th>62</th>\n",
       "      <td>63</td>\n",
       "      <td>Twitter</td>\n",
       "      <td>image</td>\n",
       "      <td>5/15/2023 6:30</td>\n",
       "      <td>227</td>\n",
       "      <td>163</td>\n",
       "      <td>127</td>\n",
       "      <td>Monday</td>\n",
       "      <td>neutral</td>\n",
       "    </tr>\n",
       "    <tr>\n",
       "      <th>93</th>\n",
       "      <td>94</td>\n",
       "      <td>Facebook</td>\n",
       "      <td>image</td>\n",
       "      <td>11/27/2023 4:30</td>\n",
       "      <td>1694</td>\n",
       "      <td>207</td>\n",
       "      <td>290</td>\n",
       "      <td>Monday</td>\n",
       "      <td>positive</td>\n",
       "    </tr>\n",
       "    <tr>\n",
       "      <th>53</th>\n",
       "      <td>54</td>\n",
       "      <td>Instagram</td>\n",
       "      <td>image</td>\n",
       "      <td>1/21/2023 1:00</td>\n",
       "      <td>4297</td>\n",
       "      <td>360</td>\n",
       "      <td>825</td>\n",
       "      <td>Saturday</td>\n",
       "      <td>negative</td>\n",
       "    </tr>\n",
       "    <tr>\n",
       "      <th>50</th>\n",
       "      <td>51</td>\n",
       "      <td>Twitter</td>\n",
       "      <td>text</td>\n",
       "      <td>2/14/2023 18:00</td>\n",
       "      <td>1268</td>\n",
       "      <td>73</td>\n",
       "      <td>251</td>\n",
       "      <td>Tuesday</td>\n",
       "      <td>positive</td>\n",
       "    </tr>\n",
       "    <tr>\n",
       "      <th>97</th>\n",
       "      <td>98</td>\n",
       "      <td>Twitter</td>\n",
       "      <td>text</td>\n",
       "      <td>8/5/2023 8:45</td>\n",
       "      <td>229</td>\n",
       "      <td>179</td>\n",
       "      <td>38</td>\n",
       "      <td>Saturday</td>\n",
       "      <td>positive</td>\n",
       "    </tr>\n",
       "  </tbody>\n",
       "</table>\n",
       "</div>"
      ],
      "text/plain": [
       "    post_id   platform post_type        post_time  likes  comments  shares  \\\n",
       "41       42  Instagram     video  11/23/2023 2:00   4929       252     730   \n",
       "28       29   Facebook     image   1/7/2023 10:30    548       153     731   \n",
       "8         9   Facebook     video    5/2/2023 6:15    317       249     221   \n",
       "15       16    Twitter     image  2/10/2023 13:00   2348       154      18   \n",
       "16       17  Instagram      poll    7/5/2023 5:15   2872        10     736   \n",
       "62       63    Twitter     image   5/15/2023 6:30    227       163     127   \n",
       "93       94   Facebook     image  11/27/2023 4:30   1694       207     290   \n",
       "53       54  Instagram     image   1/21/2023 1:00   4297       360     825   \n",
       "50       51    Twitter      text  2/14/2023 18:00   1268        73     251   \n",
       "97       98    Twitter      text    8/5/2023 8:45    229       179      38   \n",
       "\n",
       "     post_day sentiment_score  \n",
       "41   Thursday        negative  \n",
       "28   Saturday        negative  \n",
       "8     Tuesday         neutral  \n",
       "15     Friday         neutral  \n",
       "16  Wednesday        positive  \n",
       "62     Monday         neutral  \n",
       "93     Monday        positive  \n",
       "53   Saturday        negative  \n",
       "50    Tuesday        positive  \n",
       "97   Saturday        positive  "
      ]
     },
     "execution_count": 179,
     "metadata": {},
     "output_type": "execute_result"
    }
   ],
   "source": [
    "data.sample(10)"
   ]
  },
  {
   "cell_type": "code",
   "execution_count": 180,
   "id": "27f4aa2d",
   "metadata": {},
   "outputs": [
    {
     "data": {
      "text/html": [
       "<div>\n",
       "<style scoped>\n",
       "    .dataframe tbody tr th:only-of-type {\n",
       "        vertical-align: middle;\n",
       "    }\n",
       "\n",
       "    .dataframe tbody tr th {\n",
       "        vertical-align: top;\n",
       "    }\n",
       "\n",
       "    .dataframe thead th {\n",
       "        text-align: right;\n",
       "    }\n",
       "</style>\n",
       "<table border=\"1\" class=\"dataframe\">\n",
       "  <thead>\n",
       "    <tr style=\"text-align: right;\">\n",
       "      <th></th>\n",
       "      <th>post_id</th>\n",
       "      <th>likes</th>\n",
       "      <th>comments</th>\n",
       "      <th>shares</th>\n",
       "    </tr>\n",
       "  </thead>\n",
       "  <tbody>\n",
       "    <tr>\n",
       "      <th>count</th>\n",
       "      <td>100.00</td>\n",
       "      <td>100.00</td>\n",
       "      <td>100.00</td>\n",
       "      <td>100.00</td>\n",
       "    </tr>\n",
       "    <tr>\n",
       "      <th>mean</th>\n",
       "      <td>50.50</td>\n",
       "      <td>2381.81</td>\n",
       "      <td>202.66</td>\n",
       "      <td>415.65</td>\n",
       "    </tr>\n",
       "    <tr>\n",
       "      <th>std</th>\n",
       "      <td>29.01</td>\n",
       "      <td>1632.57</td>\n",
       "      <td>138.84</td>\n",
       "      <td>283.88</td>\n",
       "    </tr>\n",
       "    <tr>\n",
       "      <th>min</th>\n",
       "      <td>1.00</td>\n",
       "      <td>15.00</td>\n",
       "      <td>10.00</td>\n",
       "      <td>16.00</td>\n",
       "    </tr>\n",
       "    <tr>\n",
       "      <th>25%</th>\n",
       "      <td>25.75</td>\n",
       "      <td>895.75</td>\n",
       "      <td>89.75</td>\n",
       "      <td>183.00</td>\n",
       "    </tr>\n",
       "    <tr>\n",
       "      <th>50%</th>\n",
       "      <td>50.50</td>\n",
       "      <td>2220.00</td>\n",
       "      <td>171.00</td>\n",
       "      <td>356.50</td>\n",
       "    </tr>\n",
       "    <tr>\n",
       "      <th>75%</th>\n",
       "      <td>75.25</td>\n",
       "      <td>3593.25</td>\n",
       "      <td>299.00</td>\n",
       "      <td>689.50</td>\n",
       "    </tr>\n",
       "    <tr>\n",
       "      <th>max</th>\n",
       "      <td>100.00</td>\n",
       "      <td>5000.00</td>\n",
       "      <td>500.00</td>\n",
       "      <td>993.00</td>\n",
       "    </tr>\n",
       "  </tbody>\n",
       "</table>\n",
       "</div>"
      ],
      "text/plain": [
       "       post_id    likes  comments  shares\n",
       "count   100.00   100.00    100.00  100.00\n",
       "mean     50.50  2381.81    202.66  415.65\n",
       "std      29.01  1632.57    138.84  283.88\n",
       "min       1.00    15.00     10.00   16.00\n",
       "25%      25.75   895.75     89.75  183.00\n",
       "50%      50.50  2220.00    171.00  356.50\n",
       "75%      75.25  3593.25    299.00  689.50\n",
       "max     100.00  5000.00    500.00  993.00"
      ]
     },
     "execution_count": 180,
     "metadata": {},
     "output_type": "execute_result"
    }
   ],
   "source": [
    "data.describe().round(2)"
   ]
  },
  {
   "cell_type": "code",
   "execution_count": 181,
   "id": "55386a1c",
   "metadata": {},
   "outputs": [],
   "source": [
    "data.drop(\"post_id\" ,axis=1 , inplace=True) "
   ]
  },
  {
   "cell_type": "code",
   "execution_count": 182,
   "id": "bdeb2359",
   "metadata": {},
   "outputs": [
    {
     "data": {
      "text/html": [
       "<div>\n",
       "<style scoped>\n",
       "    .dataframe tbody tr th:only-of-type {\n",
       "        vertical-align: middle;\n",
       "    }\n",
       "\n",
       "    .dataframe tbody tr th {\n",
       "        vertical-align: top;\n",
       "    }\n",
       "\n",
       "    .dataframe thead th {\n",
       "        text-align: right;\n",
       "    }\n",
       "</style>\n",
       "<table border=\"1\" class=\"dataframe\">\n",
       "  <thead>\n",
       "    <tr style=\"text-align: right;\">\n",
       "      <th></th>\n",
       "      <th>likes</th>\n",
       "      <th>comments</th>\n",
       "      <th>shares</th>\n",
       "    </tr>\n",
       "  </thead>\n",
       "  <tbody>\n",
       "    <tr>\n",
       "      <th>count</th>\n",
       "      <td>100.00</td>\n",
       "      <td>100.00</td>\n",
       "      <td>100.00</td>\n",
       "    </tr>\n",
       "    <tr>\n",
       "      <th>mean</th>\n",
       "      <td>2381.81</td>\n",
       "      <td>202.66</td>\n",
       "      <td>415.65</td>\n",
       "    </tr>\n",
       "    <tr>\n",
       "      <th>std</th>\n",
       "      <td>1632.57</td>\n",
       "      <td>138.84</td>\n",
       "      <td>283.88</td>\n",
       "    </tr>\n",
       "    <tr>\n",
       "      <th>min</th>\n",
       "      <td>15.00</td>\n",
       "      <td>10.00</td>\n",
       "      <td>16.00</td>\n",
       "    </tr>\n",
       "    <tr>\n",
       "      <th>25%</th>\n",
       "      <td>895.75</td>\n",
       "      <td>89.75</td>\n",
       "      <td>183.00</td>\n",
       "    </tr>\n",
       "    <tr>\n",
       "      <th>50%</th>\n",
       "      <td>2220.00</td>\n",
       "      <td>171.00</td>\n",
       "      <td>356.50</td>\n",
       "    </tr>\n",
       "    <tr>\n",
       "      <th>75%</th>\n",
       "      <td>3593.25</td>\n",
       "      <td>299.00</td>\n",
       "      <td>689.50</td>\n",
       "    </tr>\n",
       "    <tr>\n",
       "      <th>max</th>\n",
       "      <td>5000.00</td>\n",
       "      <td>500.00</td>\n",
       "      <td>993.00</td>\n",
       "    </tr>\n",
       "  </tbody>\n",
       "</table>\n",
       "</div>"
      ],
      "text/plain": [
       "         likes  comments  shares\n",
       "count   100.00    100.00  100.00\n",
       "mean   2381.81    202.66  415.65\n",
       "std    1632.57    138.84  283.88\n",
       "min      15.00     10.00   16.00\n",
       "25%     895.75     89.75  183.00\n",
       "50%    2220.00    171.00  356.50\n",
       "75%    3593.25    299.00  689.50\n",
       "max    5000.00    500.00  993.00"
      ]
     },
     "execution_count": 182,
     "metadata": {},
     "output_type": "execute_result"
    }
   ],
   "source": [
    "data.describe().round(2)"
   ]
  },
  {
   "cell_type": "code",
   "execution_count": 183,
   "id": "a906198a",
   "metadata": {},
   "outputs": [
    {
     "data": {
      "text/html": [
       "<div>\n",
       "<style scoped>\n",
       "    .dataframe tbody tr th:only-of-type {\n",
       "        vertical-align: middle;\n",
       "    }\n",
       "\n",
       "    .dataframe tbody tr th {\n",
       "        vertical-align: top;\n",
       "    }\n",
       "\n",
       "    .dataframe thead th {\n",
       "        text-align: right;\n",
       "    }\n",
       "</style>\n",
       "<table border=\"1\" class=\"dataframe\">\n",
       "  <thead>\n",
       "    <tr style=\"text-align: right;\">\n",
       "      <th></th>\n",
       "      <th>platform</th>\n",
       "      <th>post_type</th>\n",
       "      <th>post_time</th>\n",
       "      <th>likes</th>\n",
       "      <th>comments</th>\n",
       "      <th>shares</th>\n",
       "      <th>post_day</th>\n",
       "      <th>sentiment_score</th>\n",
       "    </tr>\n",
       "  </thead>\n",
       "  <tbody>\n",
       "    <tr>\n",
       "      <th>0</th>\n",
       "      <td>Facebook</td>\n",
       "      <td>image</td>\n",
       "      <td>8/17/2023 14:45</td>\n",
       "      <td>2121</td>\n",
       "      <td>474</td>\n",
       "      <td>628</td>\n",
       "      <td>Thursday</td>\n",
       "      <td>positive</td>\n",
       "    </tr>\n",
       "    <tr>\n",
       "      <th>1</th>\n",
       "      <td>Facebook</td>\n",
       "      <td>carousel</td>\n",
       "      <td>5/14/2023 0:45</td>\n",
       "      <td>3660</td>\n",
       "      <td>432</td>\n",
       "      <td>694</td>\n",
       "      <td>Sunday</td>\n",
       "      <td>neutral</td>\n",
       "    </tr>\n",
       "    <tr>\n",
       "      <th>2</th>\n",
       "      <td>Instagram</td>\n",
       "      <td>poll</td>\n",
       "      <td>2/21/2023 16:15</td>\n",
       "      <td>4955</td>\n",
       "      <td>408</td>\n",
       "      <td>688</td>\n",
       "      <td>Tuesday</td>\n",
       "      <td>negative</td>\n",
       "    </tr>\n",
       "    <tr>\n",
       "      <th>3</th>\n",
       "      <td>Twitter</td>\n",
       "      <td>image</td>\n",
       "      <td>11/16/2023 0:45</td>\n",
       "      <td>1183</td>\n",
       "      <td>90</td>\n",
       "      <td>187</td>\n",
       "      <td>Thursday</td>\n",
       "      <td>negative</td>\n",
       "    </tr>\n",
       "    <tr>\n",
       "      <th>4</th>\n",
       "      <td>Twitter</td>\n",
       "      <td>video</td>\n",
       "      <td>5/23/2023 0:30</td>\n",
       "      <td>3499</td>\n",
       "      <td>247</td>\n",
       "      <td>286</td>\n",
       "      <td>Tuesday</td>\n",
       "      <td>positive</td>\n",
       "    </tr>\n",
       "  </tbody>\n",
       "</table>\n",
       "</div>"
      ],
      "text/plain": [
       "    platform post_type        post_time  likes  comments  shares  post_day  \\\n",
       "0   Facebook     image  8/17/2023 14:45   2121       474     628  Thursday   \n",
       "1   Facebook  carousel   5/14/2023 0:45   3660       432     694    Sunday   \n",
       "2  Instagram      poll  2/21/2023 16:15   4955       408     688   Tuesday   \n",
       "3    Twitter     image  11/16/2023 0:45   1183        90     187  Thursday   \n",
       "4    Twitter     video   5/23/2023 0:30   3499       247     286   Tuesday   \n",
       "\n",
       "  sentiment_score  \n",
       "0        positive  \n",
       "1         neutral  \n",
       "2        negative  \n",
       "3        negative  \n",
       "4        positive  "
      ]
     },
     "execution_count": 183,
     "metadata": {},
     "output_type": "execute_result"
    }
   ],
   "source": [
    "data.head()"
   ]
  },
  {
   "cell_type": "code",
   "execution_count": 184,
   "id": "d7eb6933",
   "metadata": {},
   "outputs": [
    {
     "data": {
      "text/plain": [
       "platform           0\n",
       "post_type          0\n",
       "post_time          0\n",
       "likes              0\n",
       "comments           0\n",
       "shares             0\n",
       "post_day           0\n",
       "sentiment_score    0\n",
       "dtype: int64"
      ]
     },
     "execution_count": 184,
     "metadata": {},
     "output_type": "execute_result"
    }
   ],
   "source": [
    "data.isnull().sum()"
   ]
  },
  {
   "cell_type": "code",
   "execution_count": 185,
   "id": "e5eb427e",
   "metadata": {},
   "outputs": [
    {
     "name": "stdout",
     "output_type": "stream",
     "text": [
      "platform :\n",
      "the min Facebook\n",
      "--------------\n",
      "the max Twitter\n",
      "post_type :\n",
      "the min carousel\n",
      "--------------\n",
      "the max video\n",
      "post_time :\n",
      "the min 1/1/2023 20:00\n",
      "--------------\n",
      "the max 9/30/2023 10:30\n",
      "likes :\n",
      "the min 15\n",
      "--------------\n",
      "the max 5000\n",
      "comments :\n",
      "the min 10\n",
      "--------------\n",
      "the max 500\n",
      "shares :\n",
      "the min 16\n",
      "--------------\n",
      "the max 993\n",
      "post_day :\n",
      "the min Friday\n",
      "--------------\n",
      "the max Wednesday\n",
      "sentiment_score :\n",
      "the min negative\n",
      "--------------\n",
      "the max positive\n"
     ]
    }
   ],
   "source": [
    "for col in data.columns:\n",
    "    print(col , \":\")\n",
    "    Min = data[col].min()\n",
    "    Max = data[col].max()\n",
    "    print(\"the min\" , Min)\n",
    "    print(\"--------------\")\n",
    "    print(\"the max\" , Max) "
   ]
  },
  {
   "cell_type": "code",
   "execution_count": 186,
   "id": "326a39d1",
   "metadata": {},
   "outputs": [
    {
     "data": {
      "text/html": [
       "<div>\n",
       "<style scoped>\n",
       "    .dataframe tbody tr th:only-of-type {\n",
       "        vertical-align: middle;\n",
       "    }\n",
       "\n",
       "    .dataframe tbody tr th {\n",
       "        vertical-align: top;\n",
       "    }\n",
       "\n",
       "    .dataframe thead th {\n",
       "        text-align: right;\n",
       "    }\n",
       "</style>\n",
       "<table border=\"1\" class=\"dataframe\">\n",
       "  <thead>\n",
       "    <tr style=\"text-align: right;\">\n",
       "      <th></th>\n",
       "      <th>platform</th>\n",
       "      <th>post_type</th>\n",
       "      <th>post_time</th>\n",
       "      <th>likes</th>\n",
       "      <th>comments</th>\n",
       "      <th>shares</th>\n",
       "      <th>post_day</th>\n",
       "      <th>sentiment_score</th>\n",
       "    </tr>\n",
       "  </thead>\n",
       "  <tbody>\n",
       "    <tr>\n",
       "      <th>0</th>\n",
       "      <td>Facebook</td>\n",
       "      <td>image</td>\n",
       "      <td>8/17/2023 14:45</td>\n",
       "      <td>2121</td>\n",
       "      <td>474</td>\n",
       "      <td>628</td>\n",
       "      <td>Thursday</td>\n",
       "      <td>positive</td>\n",
       "    </tr>\n",
       "    <tr>\n",
       "      <th>1</th>\n",
       "      <td>Facebook</td>\n",
       "      <td>carousel</td>\n",
       "      <td>5/14/2023 0:45</td>\n",
       "      <td>3660</td>\n",
       "      <td>432</td>\n",
       "      <td>694</td>\n",
       "      <td>Sunday</td>\n",
       "      <td>neutral</td>\n",
       "    </tr>\n",
       "    <tr>\n",
       "      <th>2</th>\n",
       "      <td>Instagram</td>\n",
       "      <td>poll</td>\n",
       "      <td>2/21/2023 16:15</td>\n",
       "      <td>4955</td>\n",
       "      <td>408</td>\n",
       "      <td>688</td>\n",
       "      <td>Tuesday</td>\n",
       "      <td>negative</td>\n",
       "    </tr>\n",
       "    <tr>\n",
       "      <th>3</th>\n",
       "      <td>Twitter</td>\n",
       "      <td>image</td>\n",
       "      <td>11/16/2023 0:45</td>\n",
       "      <td>1183</td>\n",
       "      <td>90</td>\n",
       "      <td>187</td>\n",
       "      <td>Thursday</td>\n",
       "      <td>negative</td>\n",
       "    </tr>\n",
       "    <tr>\n",
       "      <th>4</th>\n",
       "      <td>Twitter</td>\n",
       "      <td>video</td>\n",
       "      <td>5/23/2023 0:30</td>\n",
       "      <td>3499</td>\n",
       "      <td>247</td>\n",
       "      <td>286</td>\n",
       "      <td>Tuesday</td>\n",
       "      <td>positive</td>\n",
       "    </tr>\n",
       "  </tbody>\n",
       "</table>\n",
       "</div>"
      ],
      "text/plain": [
       "    platform post_type        post_time  likes  comments  shares  post_day  \\\n",
       "0   Facebook     image  8/17/2023 14:45   2121       474     628  Thursday   \n",
       "1   Facebook  carousel   5/14/2023 0:45   3660       432     694    Sunday   \n",
       "2  Instagram      poll  2/21/2023 16:15   4955       408     688   Tuesday   \n",
       "3    Twitter     image  11/16/2023 0:45   1183        90     187  Thursday   \n",
       "4    Twitter     video   5/23/2023 0:30   3499       247     286   Tuesday   \n",
       "\n",
       "  sentiment_score  \n",
       "0        positive  \n",
       "1         neutral  \n",
       "2        negative  \n",
       "3        negative  \n",
       "4        positive  "
      ]
     },
     "execution_count": 186,
     "metadata": {},
     "output_type": "execute_result"
    }
   ],
   "source": [
    "data.head()"
   ]
  },
  {
   "cell_type": "code",
   "execution_count": 187,
   "id": "d2d7b658",
   "metadata": {},
   "outputs": [
    {
     "data": {
      "image/png": "[encoded data removed]",
      "text/plain": [
       "<Figure size 1500x1000 with 3 Axes>"
      ]
     },
     "metadata": {},
     "output_type": "display_data"
    }
   ],
   "source": [
    "numerical_feature = [\"likes\" , \"comments\" , \"shares\"]\n",
    "\n",
    "\n",
    "plt.figure(figsize=(15, 10))\n",
    "\n",
    "for i, feature in enumerate(numerical_feature, 1):\n",
    "    plt.subplot(2, 2, i) \n",
    "    plt.boxplot(data[feature], vert=False)\n",
    "    plt.title(f\"Boxplot {feature}\")\n",
    "\n",
    "plt.tight_layout()\n",
    "plt.show()\n"
   ]
  },
  {
   "cell_type": "code",
   "execution_count": 188,
   "id": "55d5c2de",
   "metadata": {},
   "outputs": [
    {
     "data": {
      "text/plain": [
       "platform\n",
       "Instagram    36\n",
       "Facebook     32\n",
       "Twitter      32\n",
       "Name: count, dtype: int64"
      ]
     },
     "execution_count": 188,
     "metadata": {},
     "output_type": "execute_result"
    }
   ],
   "source": [
    "data.platform.value_counts()"
   ]
  },
  {
   "cell_type": "code",
   "execution_count": 189,
   "id": "fe7d0668",
   "metadata": {},
   "outputs": [
    {
     "data": {
      "image/png": "[encoded data removed]",
      "text/plain": [
       "<Figure size 640x480 with 1 Axes>"
      ]
     },
     "metadata": {},
     "output_type": "display_data"
    }
   ],
   "source": [
    "plt.hist(data.platform , color=\"blue\" )\n",
    "plt.show()"
   ]
  },
  {
   "cell_type": "code",
   "execution_count": 190,
   "id": "90332f47",
   "metadata": {},
   "outputs": [
    {
     "data": {
      "text/plain": [
       "post_type\n",
       "carousel    26\n",
       "video       23\n",
       "text        21\n",
       "image       17\n",
       "poll        13\n",
       "Name: count, dtype: int64"
      ]
     },
     "execution_count": 190,
     "metadata": {},
     "output_type": "execute_result"
    }
   ],
   "source": [
    "data.post_type.value_counts()"
   ]
  },
  {
   "cell_type": "code",
   "execution_count": 191,
   "id": "562b785c",
   "metadata": {},
   "outputs": [
    {
     "data": {
      "text/plain": [
       "<Axes: ylabel='count'>"
      ]
     },
     "execution_count": 191,
     "metadata": {},
     "output_type": "execute_result"
    },
    {
     "data": {
      "image/png": "[encoded data removed]",
      "text/plain": [
       "<Figure size 640x480 with 1 Axes>"
      ]
     },
     "metadata": {},
     "output_type": "display_data"
    }
   ],
   "source": [
    "data.post_type.value_counts().plot(kind=\"pie\" , autopct =\"%1.1f%%\",legend=True)"
   ]
  },
  {
   "cell_type": "code",
   "execution_count": 192,
   "id": "d8be24ac",
   "metadata": {},
   "outputs": [
    {
     "data": {
      "text/plain": [
       "dtype('O')"
      ]
     },
     "execution_count": 192,
     "metadata": {},
     "output_type": "execute_result"
    }
   ],
   "source": [
    "data[\"post_time\"].dtypes"
   ]
  },
  {
   "cell_type": "code",
   "execution_count": 193,
   "id": "55c1b456",
   "metadata": {},
   "outputs": [],
   "source": [
    "data[\"post_time\"] = pd.to_datetime(data.post_time)"
   ]
  },
  {
   "cell_type": "code",
   "execution_count": 194,
   "id": "c0c2d086",
   "metadata": {},
   "outputs": [],
   "source": [
    "data[\"day\"] = data[\"post_time\"].dt.day "
   ]
  },
  {
   "cell_type": "code",
   "execution_count": 195,
   "id": "c8af3722",
   "metadata": {},
   "outputs": [],
   "source": [
    "data[\"month\"] = data[\"post_time\"].dt.month"
   ]
  },
  {
   "cell_type": "code",
   "execution_count": 196,
   "id": "a243e714",
   "metadata": {},
   "outputs": [
    {
     "data": {
      "text/html": [
       "<div>\n",
       "<style scoped>\n",
       "    .dataframe tbody tr th:only-of-type {\n",
       "        vertical-align: middle;\n",
       "    }\n",
       "\n",
       "    .dataframe tbody tr th {\n",
       "        vertical-align: top;\n",
       "    }\n",
       "\n",
       "    .dataframe thead th {\n",
       "        text-align: right;\n",
       "    }\n",
       "</style>\n",
       "<table border=\"1\" class=\"dataframe\">\n",
       "  <thead>\n",
       "    <tr style=\"text-align: right;\">\n",
       "      <th></th>\n",
       "      <th>platform</th>\n",
       "      <th>post_type</th>\n",
       "      <th>post_time</th>\n",
       "      <th>likes</th>\n",
       "      <th>comments</th>\n",
       "      <th>shares</th>\n",
       "      <th>post_day</th>\n",
       "      <th>sentiment_score</th>\n",
       "      <th>day</th>\n",
       "      <th>month</th>\n",
       "      <th>year</th>\n",
       "    </tr>\n",
       "  </thead>\n",
       "  <tbody>\n",
       "    <tr>\n",
       "      <th>0</th>\n",
       "      <td>Facebook</td>\n",
       "      <td>image</td>\n",
       "      <td>2023-08-17 14:45:00</td>\n",
       "      <td>2121</td>\n",
       "      <td>474</td>\n",
       "      <td>628</td>\n",
       "      <td>Thursday</td>\n",
       "      <td>positive</td>\n",
       "      <td>17</td>\n",
       "      <td>8</td>\n",
       "      <td>2023</td>\n",
       "    </tr>\n",
       "    <tr>\n",
       "      <th>1</th>\n",
       "      <td>Facebook</td>\n",
       "      <td>carousel</td>\n",
       "      <td>2023-05-14 00:45:00</td>\n",
       "      <td>3660</td>\n",
       "      <td>432</td>\n",
       "      <td>694</td>\n",
       "      <td>Sunday</td>\n",
       "      <td>neutral</td>\n",
       "      <td>14</td>\n",
       "      <td>5</td>\n",
       "      <td>2023</td>\n",
       "    </tr>\n",
       "    <tr>\n",
       "      <th>2</th>\n",
       "      <td>Instagram</td>\n",
       "      <td>poll</td>\n",
       "      <td>2023-02-21 16:15:00</td>\n",
       "      <td>4955</td>\n",
       "      <td>408</td>\n",
       "      <td>688</td>\n",
       "      <td>Tuesday</td>\n",
       "      <td>negative</td>\n",
       "      <td>21</td>\n",
       "      <td>2</td>\n",
       "      <td>2023</td>\n",
       "    </tr>\n",
       "    <tr>\n",
       "      <th>3</th>\n",
       "      <td>Twitter</td>\n",
       "      <td>image</td>\n",
       "      <td>2023-11-16 00:45:00</td>\n",
       "      <td>1183</td>\n",
       "      <td>90</td>\n",
       "      <td>187</td>\n",
       "      <td>Thursday</td>\n",
       "      <td>negative</td>\n",
       "      <td>16</td>\n",
       "      <td>11</td>\n",
       "      <td>2023</td>\n",
       "    </tr>\n",
       "    <tr>\n",
       "      <th>4</th>\n",
       "      <td>Twitter</td>\n",
       "      <td>video</td>\n",
       "      <td>2023-05-23 00:30:00</td>\n",
       "      <td>3499</td>\n",
       "      <td>247</td>\n",
       "      <td>286</td>\n",
       "      <td>Tuesday</td>\n",
       "      <td>positive</td>\n",
       "      <td>23</td>\n",
       "      <td>5</td>\n",
       "      <td>2023</td>\n",
       "    </tr>\n",
       "  </tbody>\n",
       "</table>\n",
       "</div>"
      ],
      "text/plain": [
       "    platform post_type           post_time  likes  comments  shares  post_day  \\\n",
       "0   Facebook     image 2023-08-17 14:45:00   2121       474     628  Thursday   \n",
       "1   Facebook  carousel 2023-05-14 00:45:00   3660       432     694    Sunday   \n",
       "2  Instagram      poll 2023-02-21 16:15:00   4955       408     688   Tuesday   \n",
       "3    Twitter     image 2023-11-16 00:45:00   1183        90     187  Thursday   \n",
       "4    Twitter     video 2023-05-23 00:30:00   3499       247     286   Tuesday   \n",
       "\n",
       "  sentiment_score  day  month  year  \n",
       "0        positive   17      8  2023  \n",
       "1         neutral   14      5  2023  \n",
       "2        negative   21      2  2023  \n",
       "3        negative   16     11  2023  \n",
       "4        positive   23      5  2023  "
      ]
     },
     "execution_count": 196,
     "metadata": {},
     "output_type": "execute_result"
    }
   ],
   "source": [
    "data[\"year\"] = data[\"post_time\"].dt.year\n",
    "data.head()"
   ]
  },
  {
   "cell_type": "code",
   "execution_count": 197,
   "id": "b354e212",
   "metadata": {},
   "outputs": [
    {
     "name": "stderr",
     "output_type": "stream",
     "text": [
      "C:\\Users\\Win_11\\AppData\\Local\\Temp\\ipykernel_7780\\1667184819.py:1: FutureWarning: 'm' is deprecated and will be removed in a future version, please use 'M' instead.\n",
      "  data[\"month_year\"] = data[\"post_time\"].dt.to_period(\"m\")\n"
     ]
    }
   ],
   "source": [
    "data[\"month_year\"] = data[\"post_time\"].dt.to_period(\"m\")"
   ]
  },
  {
   "cell_type": "code",
   "execution_count": 198,
   "id": "c8516e4c",
   "metadata": {},
   "outputs": [
    {
     "data": {
      "text/html": [
       "<div>\n",
       "<style scoped>\n",
       "    .dataframe tbody tr th:only-of-type {\n",
       "        vertical-align: middle;\n",
       "    }\n",
       "\n",
       "    .dataframe tbody tr th {\n",
       "        vertical-align: top;\n",
       "    }\n",
       "\n",
       "    .dataframe thead th {\n",
       "        text-align: right;\n",
       "    }\n",
       "</style>\n",
       "<table border=\"1\" class=\"dataframe\">\n",
       "  <thead>\n",
       "    <tr style=\"text-align: right;\">\n",
       "      <th></th>\n",
       "      <th>platform</th>\n",
       "      <th>post_type</th>\n",
       "      <th>post_time</th>\n",
       "      <th>likes</th>\n",
       "      <th>comments</th>\n",
       "      <th>shares</th>\n",
       "      <th>post_day</th>\n",
       "      <th>sentiment_score</th>\n",
       "      <th>day</th>\n",
       "      <th>month</th>\n",
       "      <th>year</th>\n",
       "      <th>month_year</th>\n",
       "    </tr>\n",
       "  </thead>\n",
       "  <tbody>\n",
       "    <tr>\n",
       "      <th>0</th>\n",
       "      <td>Facebook</td>\n",
       "      <td>image</td>\n",
       "      <td>2023-08-17 14:45:00</td>\n",
       "      <td>2121</td>\n",
       "      <td>474</td>\n",
       "      <td>628</td>\n",
       "      <td>Thursday</td>\n",
       "      <td>positive</td>\n",
       "      <td>17</td>\n",
       "      <td>8</td>\n",
       "      <td>2023</td>\n",
       "      <td>2023-08</td>\n",
       "    </tr>\n",
       "    <tr>\n",
       "      <th>1</th>\n",
       "      <td>Facebook</td>\n",
       "      <td>carousel</td>\n",
       "      <td>2023-05-14 00:45:00</td>\n",
       "      <td>3660</td>\n",
       "      <td>432</td>\n",
       "      <td>694</td>\n",
       "      <td>Sunday</td>\n",
       "      <td>neutral</td>\n",
       "      <td>14</td>\n",
       "      <td>5</td>\n",
       "      <td>2023</td>\n",
       "      <td>2023-05</td>\n",
       "    </tr>\n",
       "    <tr>\n",
       "      <th>2</th>\n",
       "      <td>Instagram</td>\n",
       "      <td>poll</td>\n",
       "      <td>2023-02-21 16:15:00</td>\n",
       "      <td>4955</td>\n",
       "      <td>408</td>\n",
       "      <td>688</td>\n",
       "      <td>Tuesday</td>\n",
       "      <td>negative</td>\n",
       "      <td>21</td>\n",
       "      <td>2</td>\n",
       "      <td>2023</td>\n",
       "      <td>2023-02</td>\n",
       "    </tr>\n",
       "    <tr>\n",
       "      <th>3</th>\n",
       "      <td>Twitter</td>\n",
       "      <td>image</td>\n",
       "      <td>2023-11-16 00:45:00</td>\n",
       "      <td>1183</td>\n",
       "      <td>90</td>\n",
       "      <td>187</td>\n",
       "      <td>Thursday</td>\n",
       "      <td>negative</td>\n",
       "      <td>16</td>\n",
       "      <td>11</td>\n",
       "      <td>2023</td>\n",
       "      <td>2023-11</td>\n",
       "    </tr>\n",
       "    <tr>\n",
       "      <th>4</th>\n",
       "      <td>Twitter</td>\n",
       "      <td>video</td>\n",
       "      <td>2023-05-23 00:30:00</td>\n",
       "      <td>3499</td>\n",
       "      <td>247</td>\n",
       "      <td>286</td>\n",
       "      <td>Tuesday</td>\n",
       "      <td>positive</td>\n",
       "      <td>23</td>\n",
       "      <td>5</td>\n",
       "      <td>2023</td>\n",
       "      <td>2023-05</td>\n",
       "    </tr>\n",
       "  </tbody>\n",
       "</table>\n",
       "</div>"
      ],
      "text/plain": [
       "    platform post_type           post_time  likes  comments  shares  post_day  \\\n",
       "0   Facebook     image 2023-08-17 14:45:00   2121       474     628  Thursday   \n",
       "1   Facebook  carousel 2023-05-14 00:45:00   3660       432     694    Sunday   \n",
       "2  Instagram      poll 2023-02-21 16:15:00   4955       408     688   Tuesday   \n",
       "3    Twitter     image 2023-11-16 00:45:00   1183        90     187  Thursday   \n",
       "4    Twitter     video 2023-05-23 00:30:00   3499       247     286   Tuesday   \n",
       "\n",
       "  sentiment_score  day  month  year month_year  \n",
       "0        positive   17      8  2023    2023-08  \n",
       "1         neutral   14      5  2023    2023-05  \n",
       "2        negative   21      2  2023    2023-02  \n",
       "3        negative   16     11  2023    2023-11  \n",
       "4        positive   23      5  2023    2023-05  "
      ]
     },
     "execution_count": 198,
     "metadata": {},
     "output_type": "execute_result"
    }
   ],
   "source": [
    "data.head()"
   ]
  },
  {
   "cell_type": "code",
   "execution_count": 199,
   "id": "1da85386",
   "metadata": {},
   "outputs": [],
   "source": [
    "data['post_time'] = data['post_time'].dt.date"
   ]
  },
  {
   "cell_type": "code",
   "execution_count": 200,
   "id": "feb5d64b",
   "metadata": {},
   "outputs": [
    {
     "data": {
      "text/html": [
       "<div>\n",
       "<style scoped>\n",
       "    .dataframe tbody tr th:only-of-type {\n",
       "        vertical-align: middle;\n",
       "    }\n",
       "\n",
       "    .dataframe tbody tr th {\n",
       "        vertical-align: top;\n",
       "    }\n",
       "\n",
       "    .dataframe thead th {\n",
       "        text-align: right;\n",
       "    }\n",
       "</style>\n",
       "<table border=\"1\" class=\"dataframe\">\n",
       "  <thead>\n",
       "    <tr style=\"text-align: right;\">\n",
       "      <th></th>\n",
       "      <th>platform</th>\n",
       "      <th>post_type</th>\n",
       "      <th>post_time</th>\n",
       "      <th>likes</th>\n",
       "      <th>comments</th>\n",
       "      <th>shares</th>\n",
       "      <th>post_day</th>\n",
       "      <th>sentiment_score</th>\n",
       "      <th>day</th>\n",
       "      <th>month</th>\n",
       "      <th>year</th>\n",
       "      <th>month_year</th>\n",
       "    </tr>\n",
       "  </thead>\n",
       "  <tbody>\n",
       "    <tr>\n",
       "      <th>0</th>\n",
       "      <td>Facebook</td>\n",
       "      <td>image</td>\n",
       "      <td>2023-08-17</td>\n",
       "      <td>2121</td>\n",
       "      <td>474</td>\n",
       "      <td>628</td>\n",
       "      <td>Thursday</td>\n",
       "      <td>positive</td>\n",
       "      <td>17</td>\n",
       "      <td>8</td>\n",
       "      <td>2023</td>\n",
       "      <td>2023-08</td>\n",
       "    </tr>\n",
       "    <tr>\n",
       "      <th>1</th>\n",
       "      <td>Facebook</td>\n",
       "      <td>carousel</td>\n",
       "      <td>2023-05-14</td>\n",
       "      <td>3660</td>\n",
       "      <td>432</td>\n",
       "      <td>694</td>\n",
       "      <td>Sunday</td>\n",
       "      <td>neutral</td>\n",
       "      <td>14</td>\n",
       "      <td>5</td>\n",
       "      <td>2023</td>\n",
       "      <td>2023-05</td>\n",
       "    </tr>\n",
       "    <tr>\n",
       "      <th>2</th>\n",
       "      <td>Instagram</td>\n",
       "      <td>poll</td>\n",
       "      <td>2023-02-21</td>\n",
       "      <td>4955</td>\n",
       "      <td>408</td>\n",
       "      <td>688</td>\n",
       "      <td>Tuesday</td>\n",
       "      <td>negative</td>\n",
       "      <td>21</td>\n",
       "      <td>2</td>\n",
       "      <td>2023</td>\n",
       "      <td>2023-02</td>\n",
       "    </tr>\n",
       "    <tr>\n",
       "      <th>3</th>\n",
       "      <td>Twitter</td>\n",
       "      <td>image</td>\n",
       "      <td>2023-11-16</td>\n",
       "      <td>1183</td>\n",
       "      <td>90</td>\n",
       "      <td>187</td>\n",
       "      <td>Thursday</td>\n",
       "      <td>negative</td>\n",
       "      <td>16</td>\n",
       "      <td>11</td>\n",
       "      <td>2023</td>\n",
       "      <td>2023-11</td>\n",
       "    </tr>\n",
       "    <tr>\n",
       "      <th>4</th>\n",
       "      <td>Twitter</td>\n",
       "      <td>video</td>\n",
       "      <td>2023-05-23</td>\n",
       "      <td>3499</td>\n",
       "      <td>247</td>\n",
       "      <td>286</td>\n",
       "      <td>Tuesday</td>\n",
       "      <td>positive</td>\n",
       "      <td>23</td>\n",
       "      <td>5</td>\n",
       "      <td>2023</td>\n",
       "      <td>2023-05</td>\n",
       "    </tr>\n",
       "  </tbody>\n",
       "</table>\n",
       "</div>"
      ],
      "text/plain": [
       "    platform post_type   post_time  likes  comments  shares  post_day  \\\n",
       "0   Facebook     image  2023-08-17   2121       474     628  Thursday   \n",
       "1   Facebook  carousel  2023-05-14   3660       432     694    Sunday   \n",
       "2  Instagram      poll  2023-02-21   4955       408     688   Tuesday   \n",
       "3    Twitter     image  2023-11-16   1183        90     187  Thursday   \n",
       "4    Twitter     video  2023-05-23   3499       247     286   Tuesday   \n",
       "\n",
       "  sentiment_score  day  month  year month_year  \n",
       "0        positive   17      8  2023    2023-08  \n",
       "1         neutral   14      5  2023    2023-05  \n",
       "2        negative   21      2  2023    2023-02  \n",
       "3        negative   16     11  2023    2023-11  \n",
       "4        positive   23      5  2023    2023-05  "
      ]
     },
     "execution_count": 200,
     "metadata": {},
     "output_type": "execute_result"
    }
   ],
   "source": [
    "data.head()"
   ]
  },
  {
   "cell_type": "code",
   "execution_count": 201,
   "id": "29ea293f",
   "metadata": {},
   "outputs": [
    {
     "data": {
      "text/plain": [
       "<Axes: xlabel='month_year'>"
      ]
     },
     "execution_count": 201,
     "metadata": {},
     "output_type": "execute_result"
    },
    {
     "data": {
      "image/png": "[encoded data removed]",
      "text/plain": [
       "<Figure size 640x480 with 1 Axes>"
      ]
     },
     "metadata": {},
     "output_type": "display_data"
    }
   ],
   "source": [
    "data.groupby([\"month_year\" , \"platform\"]).likes.sum().unstack().plot(kind=\"bar\")"
   ]
  },
  {
   "cell_type": "code",
   "execution_count": 202,
   "id": "0b507e30",
   "metadata": {},
   "outputs": [
    {
     "data": {
      "text/plain": [
       "<Axes: xlabel='month_year'>"
      ]
     },
     "execution_count": 202,
     "metadata": {},
     "output_type": "execute_result"
    },
    {
     "data": {
      "image/png": "[encoded data removed]",
      "text/plain": [
       "<Figure size 640x480 with 1 Axes>"
      ]
     },
     "metadata": {},
     "output_type": "display_data"
    }
   ],
   "source": [
    "data.groupby([\"month_year\" , \"platform\"]).comments.sum().unstack().plot(kind=\"bar\")"
   ]
  },
  {
   "cell_type": "code",
   "execution_count": 203,
   "id": "7549653b",
   "metadata": {},
   "outputs": [
    {
     "data": {
      "text/plain": [
       "<Axes: xlabel='platform'>"
      ]
     },
     "execution_count": 203,
     "metadata": {},
     "output_type": "execute_result"
    },
    {
     "data": {
      "image/png": "[encoded data removed]",
      "text/plain": [
       "<Figure size 640x480 with 1 Axes>"
      ]
     },
     "metadata": {},
     "output_type": "display_data"
    }
   ],
   "source": [
    "data.groupby([\"platform\" , \"month\"]).likes.mean().unstack().plot(kind=\"line\")"
   ]
  },
  {
   "cell_type": "code",
   "execution_count": 204,
   "id": "59c9bcc7",
   "metadata": {},
   "outputs": [
    {
     "data": {
      "text/html": [
       "<div>\n",
       "<style scoped>\n",
       "    .dataframe tbody tr th:only-of-type {\n",
       "        vertical-align: middle;\n",
       "    }\n",
       "\n",
       "    .dataframe tbody tr th {\n",
       "        vertical-align: top;\n",
       "    }\n",
       "\n",
       "    .dataframe thead th {\n",
       "        text-align: right;\n",
       "    }\n",
       "</style>\n",
       "<table border=\"1\" class=\"dataframe\">\n",
       "  <thead>\n",
       "    <tr style=\"text-align: right;\">\n",
       "      <th>platform</th>\n",
       "      <th>Facebook</th>\n",
       "      <th>Instagram</th>\n",
       "      <th>Twitter</th>\n",
       "    </tr>\n",
       "    <tr>\n",
       "      <th>day</th>\n",
       "      <th></th>\n",
       "      <th></th>\n",
       "      <th></th>\n",
       "    </tr>\n",
       "  </thead>\n",
       "  <tbody>\n",
       "    <tr>\n",
       "      <th>1</th>\n",
       "      <td>3541.500000</td>\n",
       "      <td>4832.500000</td>\n",
       "      <td>2236.000000</td>\n",
       "    </tr>\n",
       "    <tr>\n",
       "      <th>2</th>\n",
       "      <td>386.000000</td>\n",
       "      <td>0.000000</td>\n",
       "      <td>986.500000</td>\n",
       "    </tr>\n",
       "    <tr>\n",
       "      <th>3</th>\n",
       "      <td>2866.500000</td>\n",
       "      <td>0.000000</td>\n",
       "      <td>2884.000000</td>\n",
       "    </tr>\n",
       "    <tr>\n",
       "      <th>4</th>\n",
       "      <td>2642.000000</td>\n",
       "      <td>447.000000</td>\n",
       "      <td>0.000000</td>\n",
       "    </tr>\n",
       "    <tr>\n",
       "      <th>5</th>\n",
       "      <td>1841.000000</td>\n",
       "      <td>1564.000000</td>\n",
       "      <td>1900.000000</td>\n",
       "    </tr>\n",
       "    <tr>\n",
       "      <th>6</th>\n",
       "      <td>2566.000000</td>\n",
       "      <td>3442.400000</td>\n",
       "      <td>0.000000</td>\n",
       "    </tr>\n",
       "    <tr>\n",
       "      <th>7</th>\n",
       "      <td>548.000000</td>\n",
       "      <td>1978.000000</td>\n",
       "      <td>0.000000</td>\n",
       "    </tr>\n",
       "    <tr>\n",
       "      <th>8</th>\n",
       "      <td>4863.000000</td>\n",
       "      <td>0.000000</td>\n",
       "      <td>1446.000000</td>\n",
       "    </tr>\n",
       "    <tr>\n",
       "      <th>9</th>\n",
       "      <td>889.000000</td>\n",
       "      <td>0.000000</td>\n",
       "      <td>2253.000000</td>\n",
       "    </tr>\n",
       "    <tr>\n",
       "      <th>10</th>\n",
       "      <td>4795.000000</td>\n",
       "      <td>3398.000000</td>\n",
       "      <td>2348.000000</td>\n",
       "    </tr>\n",
       "    <tr>\n",
       "      <th>11</th>\n",
       "      <td>2145.000000</td>\n",
       "      <td>0.000000</td>\n",
       "      <td>1878.000000</td>\n",
       "    </tr>\n",
       "    <tr>\n",
       "      <th>12</th>\n",
       "      <td>3094.000000</td>\n",
       "      <td>793.500000</td>\n",
       "      <td>1498.000000</td>\n",
       "    </tr>\n",
       "    <tr>\n",
       "      <th>13</th>\n",
       "      <td>0.000000</td>\n",
       "      <td>4308.333333</td>\n",
       "      <td>0.000000</td>\n",
       "    </tr>\n",
       "    <tr>\n",
       "      <th>14</th>\n",
       "      <td>3660.000000</td>\n",
       "      <td>5000.000000</td>\n",
       "      <td>801.666667</td>\n",
       "    </tr>\n",
       "    <tr>\n",
       "      <th>15</th>\n",
       "      <td>3956.000000</td>\n",
       "      <td>0.000000</td>\n",
       "      <td>265.500000</td>\n",
       "    </tr>\n",
       "    <tr>\n",
       "      <th>16</th>\n",
       "      <td>0.000000</td>\n",
       "      <td>2251.000000</td>\n",
       "      <td>1183.000000</td>\n",
       "    </tr>\n",
       "    <tr>\n",
       "      <th>17</th>\n",
       "      <td>2121.000000</td>\n",
       "      <td>0.000000</td>\n",
       "      <td>811.500000</td>\n",
       "    </tr>\n",
       "    <tr>\n",
       "      <th>18</th>\n",
       "      <td>3026.000000</td>\n",
       "      <td>0.000000</td>\n",
       "      <td>0.000000</td>\n",
       "    </tr>\n",
       "    <tr>\n",
       "      <th>19</th>\n",
       "      <td>0.000000</td>\n",
       "      <td>3146.800000</td>\n",
       "      <td>0.000000</td>\n",
       "    </tr>\n",
       "    <tr>\n",
       "      <th>20</th>\n",
       "      <td>0.000000</td>\n",
       "      <td>3982.000000</td>\n",
       "      <td>2013.000000</td>\n",
       "    </tr>\n",
       "    <tr>\n",
       "      <th>21</th>\n",
       "      <td>0.000000</td>\n",
       "      <td>4626.000000</td>\n",
       "      <td>0.000000</td>\n",
       "    </tr>\n",
       "    <tr>\n",
       "      <th>22</th>\n",
       "      <td>5000.000000</td>\n",
       "      <td>0.000000</td>\n",
       "      <td>0.000000</td>\n",
       "    </tr>\n",
       "    <tr>\n",
       "      <th>23</th>\n",
       "      <td>1941.500000</td>\n",
       "      <td>2472.000000</td>\n",
       "      <td>2005.500000</td>\n",
       "    </tr>\n",
       "    <tr>\n",
       "      <th>24</th>\n",
       "      <td>0.000000</td>\n",
       "      <td>0.000000</td>\n",
       "      <td>344.000000</td>\n",
       "    </tr>\n",
       "    <tr>\n",
       "      <th>25</th>\n",
       "      <td>553.000000</td>\n",
       "      <td>0.000000</td>\n",
       "      <td>2416.000000</td>\n",
       "    </tr>\n",
       "    <tr>\n",
       "      <th>26</th>\n",
       "      <td>5000.000000</td>\n",
       "      <td>1982.000000</td>\n",
       "      <td>0.000000</td>\n",
       "    </tr>\n",
       "    <tr>\n",
       "      <th>27</th>\n",
       "      <td>2546.666667</td>\n",
       "      <td>2153.000000</td>\n",
       "      <td>366.666667</td>\n",
       "    </tr>\n",
       "    <tr>\n",
       "      <th>28</th>\n",
       "      <td>0.000000</td>\n",
       "      <td>917.000000</td>\n",
       "      <td>0.000000</td>\n",
       "    </tr>\n",
       "    <tr>\n",
       "      <th>29</th>\n",
       "      <td>0.000000</td>\n",
       "      <td>5000.000000</td>\n",
       "      <td>0.000000</td>\n",
       "    </tr>\n",
       "    <tr>\n",
       "      <th>30</th>\n",
       "      <td>0.000000</td>\n",
       "      <td>0.000000</td>\n",
       "      <td>1647.000000</td>\n",
       "    </tr>\n",
       "    <tr>\n",
       "      <th>31</th>\n",
       "      <td>0.000000</td>\n",
       "      <td>3544.000000</td>\n",
       "      <td>2586.000000</td>\n",
       "    </tr>\n",
       "  </tbody>\n",
       "</table>\n",
       "</div>"
      ],
      "text/plain": [
       "platform     Facebook    Instagram      Twitter\n",
       "day                                            \n",
       "1         3541.500000  4832.500000  2236.000000\n",
       "2          386.000000     0.000000   986.500000\n",
       "3         2866.500000     0.000000  2884.000000\n",
       "4         2642.000000   447.000000     0.000000\n",
       "5         1841.000000  1564.000000  1900.000000\n",
       "6         2566.000000  3442.400000     0.000000\n",
       "7          548.000000  1978.000000     0.000000\n",
       "8         4863.000000     0.000000  1446.000000\n",
       "9          889.000000     0.000000  2253.000000\n",
       "10        4795.000000  3398.000000  2348.000000\n",
       "11        2145.000000     0.000000  1878.000000\n",
       "12        3094.000000   793.500000  1498.000000\n",
       "13           0.000000  4308.333333     0.000000\n",
       "14        3660.000000  5000.000000   801.666667\n",
       "15        3956.000000     0.000000   265.500000\n",
       "16           0.000000  2251.000000  1183.000000\n",
       "17        2121.000000     0.000000   811.500000\n",
       "18        3026.000000     0.000000     0.000000\n",
       "19           0.000000  3146.800000     0.000000\n",
       "20           0.000000  3982.000000  2013.000000\n",
       "21           0.000000  4626.000000     0.000000\n",
       "22        5000.000000     0.000000     0.000000\n",
       "23        1941.500000  2472.000000  2005.500000\n",
       "24           0.000000     0.000000   344.000000\n",
       "25         553.000000     0.000000  2416.000000\n",
       "26        5000.000000  1982.000000     0.000000\n",
       "27        2546.666667  2153.000000   366.666667\n",
       "28           0.000000   917.000000     0.000000\n",
       "29           0.000000  5000.000000     0.000000\n",
       "30           0.000000     0.000000  1647.000000\n",
       "31           0.000000  3544.000000  2586.000000"
      ]
     },
     "execution_count": 204,
     "metadata": {},
     "output_type": "execute_result"
    }
   ],
   "source": [
    "data.groupby([\"day\" , \"platform\"]).likes.mean().unstack().fillna(0)"
   ]
  },
  {
   "cell_type": "code",
   "execution_count": 205,
   "id": "963f99e4",
   "metadata": {},
   "outputs": [
    {
     "data": {
      "text/plain": [
       "<Axes: xlabel='year', ylabel='month'>"
      ]
     },
     "execution_count": 205,
     "metadata": {},
     "output_type": "execute_result"
    },
    {
     "data": {
      "image/png": "[encoded data removed]",
      "text/plain": [
       "<Figure size 640x480 with 2 Axes>"
      ]
     },
     "metadata": {},
     "output_type": "display_data"
    }
   ],
   "source": [
    "pivot=data.pivot_table(index=\"month\" , columns=\"year\" , values=\"likes\"  ,aggfunc=\"sum\") \n",
    "sns.heatmap(pivot , annot=True , fmt=\"0.0f\")\n"
   ]
  },
  {
   "cell_type": "code",
   "execution_count": 206,
   "id": "9e68c638",
   "metadata": {},
   "outputs": [
    {
     "data": {
      "text/plain": [
       "<Axes: xlabel='platform'>"
      ]
     },
     "execution_count": 206,
     "metadata": {},
     "output_type": "execute_result"
    },
    {
     "data": {
      "image/png": "[encoded data removed]",
      "text/plain": [
       "<Figure size 640x480 with 1 Axes>"
      ]
     },
     "metadata": {},
     "output_type": "display_data"
    }
   ],
   "source": [
    "data.groupby([\"platform\" , \"year\"]).likes.sum().unstack().plot(kind=\"bar\")"
   ]
  },
  {
   "cell_type": "code",
   "execution_count": 207,
   "id": "8fabd261",
   "metadata": {},
   "outputs": [
    {
     "data": {
      "text/plain": [
       "15"
      ]
     },
     "execution_count": 207,
     "metadata": {},
     "output_type": "execute_result"
    }
   ],
   "source": [
    "data.likes.min()"
   ]
  },
  {
   "cell_type": "code",
   "execution_count": 208,
   "id": "6de13443",
   "metadata": {},
   "outputs": [
    {
     "data": {
      "text/plain": [
       "5000"
      ]
     },
     "execution_count": 208,
     "metadata": {},
     "output_type": "execute_result"
    }
   ],
   "source": [
    "data.likes.max ()"
   ]
  },
  {
   "cell_type": "code",
   "execution_count": 209,
   "id": "9af88326",
   "metadata": {},
   "outputs": [
    {
     "data": {
      "text/plain": [
       "2381.81"
      ]
     },
     "execution_count": 209,
     "metadata": {},
     "output_type": "execute_result"
    }
   ],
   "source": [
    "data.likes.mean()"
   ]
  },
  {
   "cell_type": "code",
   "execution_count": 210,
   "id": "5cb4a0e3",
   "metadata": {},
   "outputs": [
    {
     "data": {
      "text/plain": [
       "1632.5732844781944"
      ]
     },
     "execution_count": 210,
     "metadata": {},
     "output_type": "execute_result"
    }
   ],
   "source": [
    "data.likes.std()"
   ]
  },
  {
   "cell_type": "code",
   "execution_count": 211,
   "id": "8e190b7e",
   "metadata": {},
   "outputs": [
    {
     "data": {
      "text/plain": [
       "202.66"
      ]
     },
     "execution_count": 211,
     "metadata": {},
     "output_type": "execute_result"
    }
   ],
   "source": [
    "data.comments.mean()"
   ]
  },
  {
   "cell_type": "code",
   "execution_count": 212,
   "id": "af636721",
   "metadata": {},
   "outputs": [
    {
     "data": {
      "text/plain": [
       "500"
      ]
     },
     "execution_count": 212,
     "metadata": {},
     "output_type": "execute_result"
    }
   ],
   "source": [
    "data.comments.max()"
   ]
  },
  {
   "cell_type": "code",
   "execution_count": 213,
   "id": "cd52e703",
   "metadata": {},
   "outputs": [
    {
     "data": {
      "text/plain": [
       "138.8406702561311"
      ]
     },
     "execution_count": 213,
     "metadata": {},
     "output_type": "execute_result"
    }
   ],
   "source": [
    "data.comments.std()"
   ]
  },
  {
   "cell_type": "code",
   "execution_count": 214,
   "id": "1b712d7a",
   "metadata": {},
   "outputs": [
    {
     "data": {
      "text/plain": [
       "10"
      ]
     },
     "execution_count": 214,
     "metadata": {},
     "output_type": "execute_result"
    }
   ],
   "source": [
    "data.comments.min()"
   ]
  },
  {
   "cell_type": "code",
   "execution_count": 215,
   "id": "df3ea47c",
   "metadata": {},
   "outputs": [
    {
     "data": {
      "text/plain": [
       "16"
      ]
     },
     "execution_count": 215,
     "metadata": {},
     "output_type": "execute_result"
    }
   ],
   "source": [
    "data.shares.min()"
   ]
  },
  {
   "cell_type": "code",
   "execution_count": 216,
   "id": "86deb885",
   "metadata": {},
   "outputs": [
    {
     "data": {
      "text/plain": [
       "415.65"
      ]
     },
     "execution_count": 216,
     "metadata": {},
     "output_type": "execute_result"
    }
   ],
   "source": [
    "data.shares.mean()"
   ]
  },
  {
   "cell_type": "code",
   "execution_count": 217,
   "id": "a3524614",
   "metadata": {},
   "outputs": [
    {
     "data": {
      "text/plain": [
       "993"
      ]
     },
     "execution_count": 217,
     "metadata": {},
     "output_type": "execute_result"
    }
   ],
   "source": [
    "data.shares.max()"
   ]
  },
  {
   "cell_type": "code",
   "execution_count": 218,
   "id": "7857162e",
   "metadata": {},
   "outputs": [
    {
     "data": {
      "text/plain": [
       "283.8776011316187"
      ]
     },
     "execution_count": 218,
     "metadata": {},
     "output_type": "execute_result"
    }
   ],
   "source": [
    "data.shares.std()"
   ]
  },
  {
   "cell_type": "code",
   "execution_count": 219,
   "id": "bf68228b",
   "metadata": {},
   "outputs": [
    {
     "data": {
      "text/html": [
       "<div>\n",
       "<style scoped>\n",
       "    .dataframe tbody tr th:only-of-type {\n",
       "        vertical-align: middle;\n",
       "    }\n",
       "\n",
       "    .dataframe tbody tr th {\n",
       "        vertical-align: top;\n",
       "    }\n",
       "\n",
       "    .dataframe thead th {\n",
       "        text-align: right;\n",
       "    }\n",
       "</style>\n",
       "<table border=\"1\" class=\"dataframe\">\n",
       "  <thead>\n",
       "    <tr style=\"text-align: right;\">\n",
       "      <th></th>\n",
       "      <th>platform</th>\n",
       "      <th>post_type</th>\n",
       "      <th>post_time</th>\n",
       "      <th>likes</th>\n",
       "      <th>comments</th>\n",
       "      <th>shares</th>\n",
       "      <th>post_day</th>\n",
       "      <th>sentiment_score</th>\n",
       "      <th>day</th>\n",
       "      <th>month</th>\n",
       "      <th>year</th>\n",
       "      <th>month_year</th>\n",
       "    </tr>\n",
       "  </thead>\n",
       "  <tbody>\n",
       "    <tr>\n",
       "      <th>0</th>\n",
       "      <td>Facebook</td>\n",
       "      <td>image</td>\n",
       "      <td>2023-08-17</td>\n",
       "      <td>2121</td>\n",
       "      <td>474</td>\n",
       "      <td>628</td>\n",
       "      <td>Thursday</td>\n",
       "      <td>positive</td>\n",
       "      <td>17</td>\n",
       "      <td>8</td>\n",
       "      <td>2023</td>\n",
       "      <td>2023-08</td>\n",
       "    </tr>\n",
       "    <tr>\n",
       "      <th>1</th>\n",
       "      <td>Facebook</td>\n",
       "      <td>carousel</td>\n",
       "      <td>2023-05-14</td>\n",
       "      <td>3660</td>\n",
       "      <td>432</td>\n",
       "      <td>694</td>\n",
       "      <td>Sunday</td>\n",
       "      <td>neutral</td>\n",
       "      <td>14</td>\n",
       "      <td>5</td>\n",
       "      <td>2023</td>\n",
       "      <td>2023-05</td>\n",
       "    </tr>\n",
       "    <tr>\n",
       "      <th>2</th>\n",
       "      <td>Instagram</td>\n",
       "      <td>poll</td>\n",
       "      <td>2023-02-21</td>\n",
       "      <td>4955</td>\n",
       "      <td>408</td>\n",
       "      <td>688</td>\n",
       "      <td>Tuesday</td>\n",
       "      <td>negative</td>\n",
       "      <td>21</td>\n",
       "      <td>2</td>\n",
       "      <td>2023</td>\n",
       "      <td>2023-02</td>\n",
       "    </tr>\n",
       "    <tr>\n",
       "      <th>3</th>\n",
       "      <td>Twitter</td>\n",
       "      <td>image</td>\n",
       "      <td>2023-11-16</td>\n",
       "      <td>1183</td>\n",
       "      <td>90</td>\n",
       "      <td>187</td>\n",
       "      <td>Thursday</td>\n",
       "      <td>negative</td>\n",
       "      <td>16</td>\n",
       "      <td>11</td>\n",
       "      <td>2023</td>\n",
       "      <td>2023-11</td>\n",
       "    </tr>\n",
       "    <tr>\n",
       "      <th>4</th>\n",
       "      <td>Twitter</td>\n",
       "      <td>video</td>\n",
       "      <td>2023-05-23</td>\n",
       "      <td>3499</td>\n",
       "      <td>247</td>\n",
       "      <td>286</td>\n",
       "      <td>Tuesday</td>\n",
       "      <td>positive</td>\n",
       "      <td>23</td>\n",
       "      <td>5</td>\n",
       "      <td>2023</td>\n",
       "      <td>2023-05</td>\n",
       "    </tr>\n",
       "  </tbody>\n",
       "</table>\n",
       "</div>"
      ],
      "text/plain": [
       "    platform post_type   post_time  likes  comments  shares  post_day  \\\n",
       "0   Facebook     image  2023-08-17   2121       474     628  Thursday   \n",
       "1   Facebook  carousel  2023-05-14   3660       432     694    Sunday   \n",
       "2  Instagram      poll  2023-02-21   4955       408     688   Tuesday   \n",
       "3    Twitter     image  2023-11-16   1183        90     187  Thursday   \n",
       "4    Twitter     video  2023-05-23   3499       247     286   Tuesday   \n",
       "\n",
       "  sentiment_score  day  month  year month_year  \n",
       "0        positive   17      8  2023    2023-08  \n",
       "1         neutral   14      5  2023    2023-05  \n",
       "2        negative   21      2  2023    2023-02  \n",
       "3        negative   16     11  2023    2023-11  \n",
       "4        positive   23      5  2023    2023-05  "
      ]
     },
     "execution_count": 219,
     "metadata": {},
     "output_type": "execute_result"
    }
   ],
   "source": [
    "data.head()"
   ]
  },
  {
   "cell_type": "code",
   "execution_count": 220,
   "id": "69c2860e",
   "metadata": {},
   "outputs": [
    {
     "data": {
      "text/plain": [
       "post_day\n",
       "Wednesday    18\n",
       "Thursday     16\n",
       "Friday       16\n",
       "Tuesday      15\n",
       "Sunday       14\n",
       "Monday       11\n",
       "Saturday     10\n",
       "Name: count, dtype: int64"
      ]
     },
     "execution_count": 220,
     "metadata": {},
     "output_type": "execute_result"
    }
   ],
   "source": [
    "data.post_day.value_counts()"
   ]
  },
  {
   "cell_type": "code",
   "execution_count": 221,
   "id": "c9736a62",
   "metadata": {},
   "outputs": [
    {
     "data": {
      "text/plain": [
       "sentiment_score\n",
       "positive    46\n",
       "neutral     27\n",
       "negative    27\n",
       "Name: count, dtype: int64"
      ]
     },
     "execution_count": 221,
     "metadata": {},
     "output_type": "execute_result"
    }
   ],
   "source": [
    "data.sentiment_score.value_counts()"
   ]
  },
  {
   "cell_type": "code",
   "execution_count": 222,
   "id": "98d0ae30",
   "metadata": {},
   "outputs": [
    {
     "data": {
      "text/html": [
       "<div>\n",
       "<style scoped>\n",
       "    .dataframe tbody tr th:only-of-type {\n",
       "        vertical-align: middle;\n",
       "    }\n",
       "\n",
       "    .dataframe tbody tr th {\n",
       "        vertical-align: top;\n",
       "    }\n",
       "\n",
       "    .dataframe thead th {\n",
       "        text-align: right;\n",
       "    }\n",
       "</style>\n",
       "<table border=\"1\" class=\"dataframe\">\n",
       "  <thead>\n",
       "    <tr style=\"text-align: right;\">\n",
       "      <th>post_type</th>\n",
       "      <th>carousel</th>\n",
       "      <th>image</th>\n",
       "      <th>poll</th>\n",
       "      <th>text</th>\n",
       "      <th>video</th>\n",
       "    </tr>\n",
       "    <tr>\n",
       "      <th>platform</th>\n",
       "      <th></th>\n",
       "      <th></th>\n",
       "      <th></th>\n",
       "      <th></th>\n",
       "      <th></th>\n",
       "    </tr>\n",
       "  </thead>\n",
       "  <tbody>\n",
       "    <tr>\n",
       "      <th>Facebook</th>\n",
       "      <td>10</td>\n",
       "      <td>4</td>\n",
       "      <td>3</td>\n",
       "      <td>6</td>\n",
       "      <td>9</td>\n",
       "    </tr>\n",
       "    <tr>\n",
       "      <th>Instagram</th>\n",
       "      <td>9</td>\n",
       "      <td>7</td>\n",
       "      <td>6</td>\n",
       "      <td>7</td>\n",
       "      <td>7</td>\n",
       "    </tr>\n",
       "    <tr>\n",
       "      <th>Twitter</th>\n",
       "      <td>7</td>\n",
       "      <td>6</td>\n",
       "      <td>4</td>\n",
       "      <td>8</td>\n",
       "      <td>7</td>\n",
       "    </tr>\n",
       "  </tbody>\n",
       "</table>\n",
       "</div>"
      ],
      "text/plain": [
       "post_type  carousel  image  poll  text  video\n",
       "platform                                     \n",
       "Facebook         10      4     3     6      9\n",
       "Instagram         9      7     6     7      7\n",
       "Twitter           7      6     4     8      7"
      ]
     },
     "execution_count": 222,
     "metadata": {},
     "output_type": "execute_result"
    }
   ],
   "source": [
    "pd.crosstab(data.platform , data.post_type)"
   ]
  },
  {
   "cell_type": "code",
   "execution_count": 223,
   "id": "cbe9a16f",
   "metadata": {},
   "outputs": [
    {
     "data": {
      "text/html": [
       "<div>\n",
       "<style scoped>\n",
       "    .dataframe tbody tr th:only-of-type {\n",
       "        vertical-align: middle;\n",
       "    }\n",
       "\n",
       "    .dataframe tbody tr th {\n",
       "        vertical-align: top;\n",
       "    }\n",
       "\n",
       "    .dataframe thead th {\n",
       "        text-align: right;\n",
       "    }\n",
       "</style>\n",
       "<table border=\"1\" class=\"dataframe\">\n",
       "  <thead>\n",
       "    <tr style=\"text-align: right;\">\n",
       "      <th>platform</th>\n",
       "      <th>Facebook</th>\n",
       "      <th>Instagram</th>\n",
       "      <th>Twitter</th>\n",
       "    </tr>\n",
       "    <tr>\n",
       "      <th>post_type</th>\n",
       "      <th></th>\n",
       "      <th></th>\n",
       "      <th></th>\n",
       "    </tr>\n",
       "  </thead>\n",
       "  <tbody>\n",
       "    <tr>\n",
       "      <th>carousel</th>\n",
       "      <td>neutralnegativepositivenegativepositivenegativ...</td>\n",
       "      <td>neutralpositivenegativepositiveneutralpositive...</td>\n",
       "      <td>neutralpositivepositivepositiveneutralpositive...</td>\n",
       "    </tr>\n",
       "    <tr>\n",
       "      <th>image</th>\n",
       "      <td>positivepositivenegativepositive</td>\n",
       "      <td>positivepositivenegativenegativenegativepositi...</td>\n",
       "      <td>negativeneutralneutralpositiveneutralneutral</td>\n",
       "    </tr>\n",
       "    <tr>\n",
       "      <th>poll</th>\n",
       "      <td>neutralnegativenegative</td>\n",
       "      <td>negativepositivepositivenegativepositivepositive</td>\n",
       "      <td>neutralpositivepositivepositive</td>\n",
       "    </tr>\n",
       "    <tr>\n",
       "      <th>text</th>\n",
       "      <td>positivenegativepositivepositiveneutralpositive</td>\n",
       "      <td>neutralpositivenegativepositivenegativeneutral...</td>\n",
       "      <td>negativepositiveneutralpositivepositivepositiv...</td>\n",
       "    </tr>\n",
       "    <tr>\n",
       "      <th>video</th>\n",
       "      <td>neutralpositiveneutralneutralnegativeneutralpo...</td>\n",
       "      <td>negativeneutralnegativenegativeneutralpositive...</td>\n",
       "      <td>positivepositivepositivepositivepositiveneutra...</td>\n",
       "    </tr>\n",
       "  </tbody>\n",
       "</table>\n",
       "</div>"
      ],
      "text/plain": [
       "platform                                            Facebook  \\\n",
       "post_type                                                      \n",
       "carousel   neutralnegativepositivenegativepositivenegativ...   \n",
       "image                       positivepositivenegativepositive   \n",
       "poll                                 neutralnegativenegative   \n",
       "text         positivenegativepositivepositiveneutralpositive   \n",
       "video      neutralpositiveneutralneutralnegativeneutralpo...   \n",
       "\n",
       "platform                                           Instagram  \\\n",
       "post_type                                                      \n",
       "carousel   neutralpositivenegativepositiveneutralpositive...   \n",
       "image      positivepositivenegativenegativenegativepositi...   \n",
       "poll        negativepositivepositivenegativepositivepositive   \n",
       "text       neutralpositivenegativepositivenegativeneutral...   \n",
       "video      negativeneutralnegativenegativeneutralpositive...   \n",
       "\n",
       "platform                                             Twitter  \n",
       "post_type                                                     \n",
       "carousel   neutralpositivepositivepositiveneutralpositive...  \n",
       "image           negativeneutralneutralpositiveneutralneutral  \n",
       "poll                         neutralpositivepositivepositive  \n",
       "text       negativepositiveneutralpositivepositivepositiv...  \n",
       "video      positivepositivepositivepositivepositiveneutra...  "
      ]
     },
     "execution_count": 223,
     "metadata": {},
     "output_type": "execute_result"
    }
   ],
   "source": [
    "data.groupby([\"post_type\" , \"platform\"])[\"sentiment_score\"].sum().unstack()"
   ]
  },
  {
   "cell_type": "code",
   "execution_count": 224,
   "id": "a5f2e269",
   "metadata": {},
   "outputs": [
    {
     "data": {
      "text/html": [
       "<div>\n",
       "<style scoped>\n",
       "    .dataframe tbody tr th:only-of-type {\n",
       "        vertical-align: middle;\n",
       "    }\n",
       "\n",
       "    .dataframe tbody tr th {\n",
       "        vertical-align: top;\n",
       "    }\n",
       "\n",
       "    .dataframe thead th {\n",
       "        text-align: right;\n",
       "    }\n",
       "</style>\n",
       "<table border=\"1\" class=\"dataframe\">\n",
       "  <thead>\n",
       "    <tr style=\"text-align: right;\">\n",
       "      <th>platform</th>\n",
       "      <th>Facebook</th>\n",
       "      <th>Instagram</th>\n",
       "      <th>Twitter</th>\n",
       "    </tr>\n",
       "    <tr>\n",
       "      <th>post_type</th>\n",
       "      <th></th>\n",
       "      <th></th>\n",
       "      <th></th>\n",
       "    </tr>\n",
       "  </thead>\n",
       "  <tbody>\n",
       "    <tr>\n",
       "      <th>carousel</th>\n",
       "      <td>SundaySaturdayMondayThursdayFridayFridaySunday...</td>\n",
       "      <td>FridaySundayFridayFridayWednesdayWednesdaySund...</td>\n",
       "      <td>ThursdayMondayWednesdayFridayMondayWednesdayWe...</td>\n",
       "    </tr>\n",
       "    <tr>\n",
       "      <th>image</th>\n",
       "      <td>ThursdayThursdaySaturdayMonday</td>\n",
       "      <td>SundaySaturdayTuesdaySaturdayMondayWednesdayTu...</td>\n",
       "      <td>ThursdayFridayMondayFridayMondaySaturday</td>\n",
       "    </tr>\n",
       "    <tr>\n",
       "      <th>poll</th>\n",
       "      <td>WednesdaySundayTuesday</td>\n",
       "      <td>TuesdayWednesdayThursdaySundayTuesdayFriday</td>\n",
       "      <td>TuesdayWednesdayThursdayTuesday</td>\n",
       "    </tr>\n",
       "    <tr>\n",
       "      <th>text</th>\n",
       "      <td>TuesdayMondayTuesdaySundayThursdayWednesday</td>\n",
       "      <td>SaturdayFridayThursdayTuesdayWednesdayThursday...</td>\n",
       "      <td>FridaySaturdaySundayMondayMondayTuesdaySaturda...</td>\n",
       "    </tr>\n",
       "    <tr>\n",
       "      <th>video</th>\n",
       "      <td>TuesdaySaturdayThursdaySundayWednesdayWednesda...</td>\n",
       "      <td>ThursdayThursdaySundayThursdayMondayFridayWedn...</td>\n",
       "      <td>TuesdayThursdayWednesdayFridaySundaySundayFriday</td>\n",
       "    </tr>\n",
       "  </tbody>\n",
       "</table>\n",
       "</div>"
      ],
      "text/plain": [
       "platform                                            Facebook  \\\n",
       "post_type                                                      \n",
       "carousel   SundaySaturdayMondayThursdayFridayFridaySunday...   \n",
       "image                         ThursdayThursdaySaturdayMonday   \n",
       "poll                                  WednesdaySundayTuesday   \n",
       "text             TuesdayMondayTuesdaySundayThursdayWednesday   \n",
       "video      TuesdaySaturdayThursdaySundayWednesdayWednesda...   \n",
       "\n",
       "platform                                           Instagram  \\\n",
       "post_type                                                      \n",
       "carousel   FridaySundayFridayFridayWednesdayWednesdaySund...   \n",
       "image      SundaySaturdayTuesdaySaturdayMondayWednesdayTu...   \n",
       "poll             TuesdayWednesdayThursdaySundayTuesdayFriday   \n",
       "text       SaturdayFridayThursdayTuesdayWednesdayThursday...   \n",
       "video      ThursdayThursdaySundayThursdayMondayFridayWedn...   \n",
       "\n",
       "platform                                             Twitter  \n",
       "post_type                                                     \n",
       "carousel   ThursdayMondayWednesdayFridayMondayWednesdayWe...  \n",
       "image               ThursdayFridayMondayFridayMondaySaturday  \n",
       "poll                         TuesdayWednesdayThursdayTuesday  \n",
       "text       FridaySaturdaySundayMondayMondayTuesdaySaturda...  \n",
       "video       TuesdayThursdayWednesdayFridaySundaySundayFriday  "
      ]
     },
     "execution_count": 224,
     "metadata": {},
     "output_type": "execute_result"
    }
   ],
   "source": [
    "pd.crosstab(data.post_type , data.platform , values=data.post_day , aggfunc=\"sum\")"
   ]
  },
  {
   "cell_type": "code",
   "execution_count": 225,
   "id": "4ab7127a",
   "metadata": {},
   "outputs": [
    {
     "data": {
      "text/html": [
       "<div>\n",
       "<style scoped>\n",
       "    .dataframe tbody tr th:only-of-type {\n",
       "        vertical-align: middle;\n",
       "    }\n",
       "\n",
       "    .dataframe tbody tr th {\n",
       "        vertical-align: top;\n",
       "    }\n",
       "\n",
       "    .dataframe thead th {\n",
       "        text-align: right;\n",
       "    }\n",
       "</style>\n",
       "<table border=\"1\" class=\"dataframe\">\n",
       "  <thead>\n",
       "    <tr style=\"text-align: right;\">\n",
       "      <th></th>\n",
       "      <th>platform</th>\n",
       "      <th>Facebook</th>\n",
       "      <th>Instagram</th>\n",
       "      <th>Twitter</th>\n",
       "    </tr>\n",
       "    <tr>\n",
       "      <th>shares</th>\n",
       "      <th>post_type</th>\n",
       "      <th></th>\n",
       "      <th></th>\n",
       "      <th></th>\n",
       "    </tr>\n",
       "  </thead>\n",
       "  <tbody>\n",
       "    <tr>\n",
       "      <th>16</th>\n",
       "      <th>video</th>\n",
       "      <td>negative</td>\n",
       "      <td>0</td>\n",
       "      <td>0</td>\n",
       "    </tr>\n",
       "    <tr>\n",
       "      <th>18</th>\n",
       "      <th>image</th>\n",
       "      <td>0</td>\n",
       "      <td>0</td>\n",
       "      <td>neutral</td>\n",
       "    </tr>\n",
       "    <tr>\n",
       "      <th>25</th>\n",
       "      <th>image</th>\n",
       "      <td>0</td>\n",
       "      <td>neutral</td>\n",
       "      <td>0</td>\n",
       "    </tr>\n",
       "    <tr>\n",
       "      <th>28</th>\n",
       "      <th>poll</th>\n",
       "      <td>0</td>\n",
       "      <td>0</td>\n",
       "      <td>positive</td>\n",
       "    </tr>\n",
       "    <tr>\n",
       "      <th>38</th>\n",
       "      <th>text</th>\n",
       "      <td>0</td>\n",
       "      <td>0</td>\n",
       "      <td>positive</td>\n",
       "    </tr>\n",
       "    <tr>\n",
       "      <th>...</th>\n",
       "      <th>...</th>\n",
       "      <td>...</td>\n",
       "      <td>...</td>\n",
       "      <td>...</td>\n",
       "    </tr>\n",
       "    <tr>\n",
       "      <th>956</th>\n",
       "      <th>carousel</th>\n",
       "      <td>0</td>\n",
       "      <td>positive</td>\n",
       "      <td>0</td>\n",
       "    </tr>\n",
       "    <tr>\n",
       "      <th>965</th>\n",
       "      <th>text</th>\n",
       "      <td>negative</td>\n",
       "      <td>0</td>\n",
       "      <td>0</td>\n",
       "    </tr>\n",
       "    <tr>\n",
       "      <th>978</th>\n",
       "      <th>poll</th>\n",
       "      <td>negative</td>\n",
       "      <td>0</td>\n",
       "      <td>0</td>\n",
       "    </tr>\n",
       "    <tr>\n",
       "      <th>980</th>\n",
       "      <th>video</th>\n",
       "      <td>neutral</td>\n",
       "      <td>0</td>\n",
       "      <td>0</td>\n",
       "    </tr>\n",
       "    <tr>\n",
       "      <th>993</th>\n",
       "      <th>poll</th>\n",
       "      <td>negative</td>\n",
       "      <td>0</td>\n",
       "      <td>0</td>\n",
       "    </tr>\n",
       "  </tbody>\n",
       "</table>\n",
       "<p>100 rows × 3 columns</p>\n",
       "</div>"
      ],
      "text/plain": [
       "platform          Facebook Instagram   Twitter\n",
       "shares post_type                              \n",
       "16     video      negative         0         0\n",
       "18     image             0         0   neutral\n",
       "25     image             0   neutral         0\n",
       "28     poll              0         0  positive\n",
       "38     text              0         0  positive\n",
       "...                    ...       ...       ...\n",
       "956    carousel          0  positive         0\n",
       "965    text       negative         0         0\n",
       "978    poll       negative         0         0\n",
       "980    video       neutral         0         0\n",
       "993    poll       negative         0         0\n",
       "\n",
       "[100 rows x 3 columns]"
      ]
     },
     "execution_count": 225,
     "metadata": {},
     "output_type": "execute_result"
    }
   ],
   "source": [
    "data.groupby([\"shares\" , \"post_type\" ,\"platform\"]).sentiment_score.sum().unstack().fillna(0)"
   ]
  },
  {
   "cell_type": "code",
   "execution_count": 226,
   "id": "fcda5383",
   "metadata": {},
   "outputs": [
    {
     "data": {
      "text/plain": [
       "<Axes: ylabel='count'>"
      ]
     },
     "execution_count": 226,
     "metadata": {},
     "output_type": "execute_result"
    },
    {
     "data": {
      "image/png": "[encoded data removed]",
      "text/plain": [
       "<Figure size 640x480 with 1 Axes>"
      ]
     },
     "metadata": {},
     "output_type": "display_data"
    }
   ],
   "source": [
    "data.post_type.value_counts().plot(kind=\"pie\" , autopct =\"%1.1f%%\",legend=True)"
   ]
  },
  {
   "cell_type": "code",
   "execution_count": 227,
   "id": "90bfc208",
   "metadata": {},
   "outputs": [
    {
     "data": {
      "text/html": [
       "<div>\n",
       "<style scoped>\n",
       "    .dataframe tbody tr th:only-of-type {\n",
       "        vertical-align: middle;\n",
       "    }\n",
       "\n",
       "    .dataframe tbody tr th {\n",
       "        vertical-align: top;\n",
       "    }\n",
       "\n",
       "    .dataframe thead th {\n",
       "        text-align: right;\n",
       "    }\n",
       "</style>\n",
       "<table border=\"1\" class=\"dataframe\">\n",
       "  <thead>\n",
       "    <tr style=\"text-align: right;\">\n",
       "      <th></th>\n",
       "      <th>platform</th>\n",
       "      <th>post_type</th>\n",
       "      <th>post_time</th>\n",
       "      <th>likes</th>\n",
       "      <th>comments</th>\n",
       "      <th>shares</th>\n",
       "      <th>post_day</th>\n",
       "      <th>sentiment_score</th>\n",
       "      <th>day</th>\n",
       "      <th>month</th>\n",
       "      <th>year</th>\n",
       "      <th>month_year</th>\n",
       "    </tr>\n",
       "  </thead>\n",
       "  <tbody>\n",
       "    <tr>\n",
       "      <th>0</th>\n",
       "      <td>Facebook</td>\n",
       "      <td>image</td>\n",
       "      <td>2023-08-17</td>\n",
       "      <td>2121</td>\n",
       "      <td>474</td>\n",
       "      <td>628</td>\n",
       "      <td>Thursday</td>\n",
       "      <td>positive</td>\n",
       "      <td>17</td>\n",
       "      <td>8</td>\n",
       "      <td>2023</td>\n",
       "      <td>2023-08</td>\n",
       "    </tr>\n",
       "    <tr>\n",
       "      <th>1</th>\n",
       "      <td>Facebook</td>\n",
       "      <td>carousel</td>\n",
       "      <td>2023-05-14</td>\n",
       "      <td>3660</td>\n",
       "      <td>432</td>\n",
       "      <td>694</td>\n",
       "      <td>Sunday</td>\n",
       "      <td>neutral</td>\n",
       "      <td>14</td>\n",
       "      <td>5</td>\n",
       "      <td>2023</td>\n",
       "      <td>2023-05</td>\n",
       "    </tr>\n",
       "    <tr>\n",
       "      <th>2</th>\n",
       "      <td>Instagram</td>\n",
       "      <td>poll</td>\n",
       "      <td>2023-02-21</td>\n",
       "      <td>4955</td>\n",
       "      <td>408</td>\n",
       "      <td>688</td>\n",
       "      <td>Tuesday</td>\n",
       "      <td>negative</td>\n",
       "      <td>21</td>\n",
       "      <td>2</td>\n",
       "      <td>2023</td>\n",
       "      <td>2023-02</td>\n",
       "    </tr>\n",
       "    <tr>\n",
       "      <th>3</th>\n",
       "      <td>Twitter</td>\n",
       "      <td>image</td>\n",
       "      <td>2023-11-16</td>\n",
       "      <td>1183</td>\n",
       "      <td>90</td>\n",
       "      <td>187</td>\n",
       "      <td>Thursday</td>\n",
       "      <td>negative</td>\n",
       "      <td>16</td>\n",
       "      <td>11</td>\n",
       "      <td>2023</td>\n",
       "      <td>2023-11</td>\n",
       "    </tr>\n",
       "    <tr>\n",
       "      <th>4</th>\n",
       "      <td>Twitter</td>\n",
       "      <td>video</td>\n",
       "      <td>2023-05-23</td>\n",
       "      <td>3499</td>\n",
       "      <td>247</td>\n",
       "      <td>286</td>\n",
       "      <td>Tuesday</td>\n",
       "      <td>positive</td>\n",
       "      <td>23</td>\n",
       "      <td>5</td>\n",
       "      <td>2023</td>\n",
       "      <td>2023-05</td>\n",
       "    </tr>\n",
       "  </tbody>\n",
       "</table>\n",
       "</div>"
      ],
      "text/plain": [
       "    platform post_type   post_time  likes  comments  shares  post_day  \\\n",
       "0   Facebook     image  2023-08-17   2121       474     628  Thursday   \n",
       "1   Facebook  carousel  2023-05-14   3660       432     694    Sunday   \n",
       "2  Instagram      poll  2023-02-21   4955       408     688   Tuesday   \n",
       "3    Twitter     image  2023-11-16   1183        90     187  Thursday   \n",
       "4    Twitter     video  2023-05-23   3499       247     286   Tuesday   \n",
       "\n",
       "  sentiment_score  day  month  year month_year  \n",
       "0        positive   17      8  2023    2023-08  \n",
       "1         neutral   14      5  2023    2023-05  \n",
       "2        negative   21      2  2023    2023-02  \n",
       "3        negative   16     11  2023    2023-11  \n",
       "4        positive   23      5  2023    2023-05  "
      ]
     },
     "execution_count": 227,
     "metadata": {},
     "output_type": "execute_result"
    }
   ],
   "source": [
    "data.head()"
   ]
  },
  {
   "cell_type": "code",
   "execution_count": 228,
   "id": "f604415d",
   "metadata": {},
   "outputs": [],
   "source": [
    "data.to_csv(\"social_media\", index=False,encoding=\"utf-8\")"
   ]
  }
 ],
 "metadata": {
  "kernelspec": {
   "display_name": "Python 3",
   "language": "python",
   "name": "python3"
  },
  "language_info": {
   "codemirror_mode": {
    "name": "ipython",
    "version": 3
   },
   "file_extension": ".py",
   "mimetype": "text/x-python",
   "name": "python",
   "nbconvert_exporter": "python",
   "pygments_lexer": "ipython3",
   "version": "3.12.4"
  }
 },
 "nbformat": 4,
 "nbformat_minor": 5
}
